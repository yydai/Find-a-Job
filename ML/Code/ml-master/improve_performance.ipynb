{
 "cells": [
  {
   "cell_type": "markdown",
   "metadata": {},
   "source": [
    "# 一、集成学习"
   ]
  },
  {
   "cell_type": "markdown",
   "metadata": {},
   "source": [
    "### 1.Bagging Decision Tree"
   ]
  },
  {
   "cell_type": "code",
   "execution_count": 9,
   "metadata": {},
   "outputs": [
    {
     "name": "stdout",
     "output_type": "stream",
     "text": [
      "Scores are: [ 0.67532468  0.84415584  0.74025974  0.66233766  0.77922078  0.80519481\n",
      "  0.84415584  0.83116883  0.72368421  0.78947368]\n",
      "Accuracy is : 76.950%, STD is :0.063\n"
     ]
    }
   ],
   "source": [
    "import pandas as pd\n",
    "import scipy as sp\n",
    "import numpy as np\n",
    "from sklearn.tree import DecisionTreeClassifier\n",
    "from sklearn import model_selection\n",
    "from sklearn.ensemble import BaggingClassifier\n",
    "\n",
    "filename = 'pima-indians-diabetes.data.csv'\n",
    "names = ['preg', 'plas', 'pres', 'skin', 'test', 'mass', 'pedi', 'age', 'class']\n",
    "dataframe = pd.read_csv(filename, delimiter=',', header=None, names=names)\n",
    "\n",
    "data_array = dataframe.values\n",
    "X = data_array[:,0:8]\n",
    "Y = data_array[:,8]\n",
    "\n",
    "seed = 15   # to get the same result, use fixed seed\n",
    "num_folder =10\n",
    "kfold = model_selection.KFold(n_splits = num_folder, random_state=seed)\n",
    "\n",
    "model = DecisionTreeClassifier(random_state=seed)\n",
    "\n",
    "meta_estimator = BaggingClassifier(base_estimator=model,n_estimators=100, max_samples=1.0, max_features=1.0, random_state=seed)\n",
    "\n",
    "scoring = 'accuracy'\n",
    "\n",
    "scores = model_selection.cross_val_score(estimator=meta_estimator, X=X, y=Y, cv=kfold, scoring=scoring)\n",
    "\n",
    "\n",
    "print ('Scores are: %s') %(scores)\n",
    "print ('Accuracy is : %.3f%%, STD is :%.3f') %(scores.mean()*100, scores.std())"
   ]
  },
  {
   "cell_type": "markdown",
   "metadata": {},
   "source": [
    "### 2.随机森林"
   ]
  },
  {
   "cell_type": "code",
   "execution_count": 7,
   "metadata": {},
   "outputs": [
    {
     "name": "stdout",
     "output_type": "stream",
     "text": [
      "Scores are: [ 0.64935065  0.85714286  0.71428571  0.66233766  0.76623377  0.75324675\n",
      "  0.81818182  0.85714286  0.71052632  0.77631579]\n",
      "Accuracy is : 75.648%, STD is :0.070\n"
     ]
    }
   ],
   "source": [
    "import pandas as pd\n",
    "import scipy as sp\n",
    "import numpy as np\n",
    "from sklearn import model_selection\n",
    "from sklearn.ensemble import RandomForestClassifier\n",
    "\n",
    "filename = 'pima-indians-diabetes.data.csv'\n",
    "names = ['preg', 'plas', 'pres', 'skin', 'test', 'mass', 'pedi', 'age', 'class']\n",
    "dataframe = pd.read_csv(filename, delimiter=',', header=None, names=names)\n",
    "\n",
    "data_array = dataframe.values\n",
    "X = data_array[:,0:8]\n",
    "Y = data_array[:,8]\n",
    "\n",
    "seed = 15   # to get the same result, use fixed seed\n",
    "num_folder =10\n",
    "kfold = model_selection.KFold(n_splits = num_folder, random_state=seed)\n",
    "\n",
    "meta_estimator = RandomForestClassifier(n_estimators=100, max_features='auto', bootstrap=True, random_state=seed)\n",
    "\n",
    "scoring = 'accuracy'\n",
    "\n",
    "scores = model_selection.cross_val_score(estimator=meta_estimator, X=X, y=Y, cv=kfold, scoring=scoring)\n",
    "\n",
    "\n",
    "print ('Scores are: %s') %(scores)\n",
    "print ('Accuracy is : %.3f%%, STD is :%.3f') %(scores.mean()*100, scores.std())"
   ]
  },
  {
   "cell_type": "markdown",
   "metadata": {},
   "source": [
    "### 3.Extra Tress"
   ]
  },
  {
   "cell_type": "code",
   "execution_count": 8,
   "metadata": {},
   "outputs": [
    {
     "name": "stdout",
     "output_type": "stream",
     "text": [
      "Scores are: [ 0.67532468  0.90909091  0.71428571  0.66233766  0.79220779  0.80519481\n",
      "  0.84415584  0.83116883  0.73684211  0.75      ]\n",
      "Accuracy is : 77.206%, STD is :0.074\n"
     ]
    }
   ],
   "source": [
    "import pandas as pd\n",
    "import scipy as sp\n",
    "import numpy as np\n",
    "from sklearn import model_selection\n",
    "from sklearn.ensemble import ExtraTreesClassifier\n",
    "\n",
    "filename = 'pima-indians-diabetes.data.csv'\n",
    "names = ['preg', 'plas', 'pres', 'skin', 'test', 'mass', 'pedi', 'age', 'class']\n",
    "dataframe = pd.read_csv(filename, delimiter=',', header=None, names=names)\n",
    "\n",
    "data_array = dataframe.values\n",
    "X = data_array[:,0:8]\n",
    "Y = data_array[:,8]\n",
    "\n",
    "seed = 15   # to get the same result, use fixed seed\n",
    "num_folder =10\n",
    "kfold = model_selection.KFold(n_splits = num_folder, random_state=seed)\n",
    "\n",
    "meta_estimator = ExtraTreesClassifier(n_estimators=100, max_features='auto', bootstrap=True, random_state=seed)\n",
    "\n",
    "scoring = 'accuracy'\n",
    "\n",
    "scores = model_selection.cross_val_score(estimator=meta_estimator, X=X, y=Y, cv=kfold, scoring=scoring)\n",
    "\n",
    "\n",
    "print ('Scores are: %s') %(scores)\n",
    "print ('Accuracy is : %.3f%%, STD is :%.3f') %(scores.mean()*100, scores.std())"
   ]
  },
  {
   "cell_type": "markdown",
   "metadata": {},
   "source": [
    "### 4.AdaBoost"
   ]
  },
  {
   "cell_type": "code",
   "execution_count": 13,
   "metadata": {},
   "outputs": [
    {
     "name": "stdout",
     "output_type": "stream",
     "text": [
      "Scores are: [ 0.5974026   0.76623377  0.67532468  0.5974026   0.67532468  0.75324675\n",
      "  0.75324675  0.83116883  0.61842105  0.64473684]\n",
      "Accuracy is : 69.125%, STD is :0.076\n"
     ]
    }
   ],
   "source": [
    "import pandas as pd\n",
    "import scipy as sp\n",
    "import numpy as np\n",
    "from sklearn import model_selection\n",
    "from sklearn.ensemble import AdaBoostClassifier\n",
    "from sklearn.tree import DecisionTreeClassifier\n",
    "\n",
    "filename = 'pima-indians-diabetes.data.csv'\n",
    "names = ['preg', 'plas', 'pres', 'skin', 'test', 'mass', 'pedi', 'age', 'class']\n",
    "dataframe = pd.read_csv(filename, delimiter=',', header=None, names=names)\n",
    "\n",
    "data_array = dataframe.values\n",
    "X = data_array[:,0:8]\n",
    "Y = data_array[:,8]\n",
    "\n",
    "seed = 15   # to get the same result, use fixed seed\n",
    "num_folder =10\n",
    "kfold = model_selection.KFold(n_splits = num_folder, random_state=seed)\n",
    "\n",
    "model = DecisionTreeClassifier(random_state=seed)\n",
    "\n",
    "meta_estimator = AdaBoostClassifier(base_estimator =model, n_estimators=40,  random_state=seed)\n",
    "\n",
    "scoring = 'accuracy'\n",
    "\n",
    "scores = model_selection.cross_val_score(estimator=meta_estimator, X=X, y=Y, cv=kfold, scoring=scoring)\n",
    "\n",
    "print ('Scores are: %s') %(scores)\n",
    "print ('Accuracy is : %.3f%%, STD is :%.3f') %(scores.mean()*100, scores.std())"
   ]
  },
  {
   "cell_type": "markdown",
   "metadata": {},
   "source": [
    "### 5.Stochastic Gradient Boosting"
   ]
  },
  {
   "cell_type": "code",
   "execution_count": 15,
   "metadata": {},
   "outputs": [
    {
     "name": "stdout",
     "output_type": "stream",
     "text": [
      "Scores are: [ 0.7012987   0.84415584  0.75324675  0.63636364  0.80519481  0.80519481\n",
      "  0.83116883  0.83116883  0.69736842  0.77631579]\n",
      "Accuracy is : 76.815%, STD is :0.066\n"
     ]
    }
   ],
   "source": [
    "import pandas as pd\n",
    "import scipy as sp\n",
    "import numpy as np\n",
    "from sklearn import model_selection\n",
    "from sklearn.ensemble import GradientBoostingClassifier\n",
    "\n",
    "\n",
    "filename = 'pima-indians-diabetes.data.csv'\n",
    "names = ['preg', 'plas', 'pres', 'skin', 'test', 'mass', 'pedi', 'age', 'class']\n",
    "dataframe = pd.read_csv(filename, delimiter=',', header=None, names=names)\n",
    "\n",
    "data_array = dataframe.values\n",
    "X = data_array[:,0:8]\n",
    "Y = data_array[:,8]\n",
    "\n",
    "seed = 15   # to get the same result, use fixed seed\n",
    "num_folder =10\n",
    "kfold = model_selection.KFold(n_splits = num_folder, random_state=seed)\n",
    "\n",
    "meta_estimator = GradientBoostingClassifier(loss='deviance', n_estimators=60, learning_rate=0.1, random_state=seed)\n",
    "\n",
    "scoring = 'accuracy'\n",
    "\n",
    "scores = model_selection.cross_val_score(estimator=meta_estimator, X=X, y=Y, cv=kfold, scoring=scoring)\n",
    "\n",
    "\n",
    "print ('Scores are: %s') %(scores)\n",
    "print ('Accuracy is : %.3f%%, STD is :%.3f') %(scores.mean()*100, scores.std())"
   ]
  },
  {
   "cell_type": "markdown",
   "metadata": {},
   "source": [
    "### 6.Voting Ensemble"
   ]
  },
  {
   "cell_type": "code",
   "execution_count": 17,
   "metadata": {},
   "outputs": [
    {
     "name": "stdout",
     "output_type": "stream",
     "text": [
      "Scores are: [ 0.62337662  0.80519481  0.72727273  0.64935065  0.75324675  0.72727273\n",
      "  0.80519481  0.79220779  0.71052632  0.73684211]\n",
      "Accuracy is : 73.305%, STD is :0.058\n"
     ]
    }
   ],
   "source": [
    "import pandas as pd\n",
    "import scipy as sp\n",
    "import numpy as np\n",
    "from sklearn import model_selection\n",
    "from sklearn.ensemble import VotingClassifier\n",
    "from sklearn.linear_model import LogisticRegression\n",
    "from sklearn.svm import SVC\n",
    "from sklearn.tree import DecisionTreeClassifier\n",
    "\n",
    "\n",
    "filename = 'pima-indians-diabetes.data.csv'\n",
    "names = ['preg', 'plas', 'pres', 'skin', 'test', 'mass', 'pedi', 'age', 'class']\n",
    "dataframe = pd.read_csv(filename, delimiter=',', header=None, names=names)\n",
    "\n",
    "data_array = dataframe.values\n",
    "X = data_array[:,0:8]\n",
    "Y = data_array[:,8]\n",
    "\n",
    "seed = 15   # to get the same result, use fixed seed\n",
    "num_folder =10\n",
    "kfold = model_selection.KFold(n_splits = num_folder, random_state=seed)\n",
    "\n",
    "model1 = ('lr', LogisticRegression())\n",
    "model2 = ('svc', SVC())\n",
    "model3 = ('cart', DecisionTreeClassifier())\n",
    "\n",
    "meta_estimator = VotingClassifier(estimators=[model1, model2, model3], voting='hard')\n",
    "\n",
    "scoring = 'accuracy'\n",
    "\n",
    "scores = model_selection.cross_val_score(estimator=meta_estimator, X=X, y=Y, cv=kfold, scoring=scoring)\n",
    "\n",
    "\n",
    "print ('Scores are: %s') %(scores)\n",
    "print ('Accuracy is : %.3f%%, STD is :%.3f') %(scores.mean()*100, scores.std())"
   ]
  },
  {
   "cell_type": "markdown",
   "metadata": {},
   "source": [
    "# 二、算法调优"
   ]
  },
  {
   "cell_type": "markdown",
   "metadata": {},
   "source": [
    "### 1.网格搜索参数优化"
   ]
  },
  {
   "cell_type": "code",
   "execution_count": 30,
   "metadata": {},
   "outputs": [
    {
     "name": "stdout",
     "output_type": "stream",
     "text": [
      "Best scores are: 70.443%\n",
      "Best hyper params are : {'splitter': 'best', 'criterion': 'entropy'}\n",
      "Best estimator is: DecisionTreeClassifier(class_weight=None, criterion='gini', max_depth=None,\n",
      "            max_features=None, max_leaf_nodes=None,\n",
      "            min_impurity_decrease=0.0, min_impurity_split=None,\n",
      "            min_samples_leaf=1, min_samples_split=2,\n",
      "            min_weight_fraction_leaf=0.0, presort=False, random_state=15,\n",
      "            splitter='best')\n"
     ]
    }
   ],
   "source": [
    "import pandas as pd\n",
    "import scipy as sp\n",
    "import numpy as np\n",
    "from sklearn import model_selection\n",
    "from sklearn.tree import DecisionTreeClassifier\n",
    "\n",
    "\n",
    "filename = 'pima-indians-diabetes.data.csv'\n",
    "names = ['preg', 'plas', 'pres', 'skin', 'test', 'mass', 'pedi', 'age', 'class']\n",
    "dataframe = pd.read_csv(filename, delimiter=',', header=None, names=names)\n",
    "\n",
    "data_array = dataframe.values\n",
    "X = data_array[:,0:8]\n",
    "Y = data_array[:,8]\n",
    "\n",
    "seed = 15   # to get the same result, use fixed seed\n",
    "num_folder =10\n",
    "kfold = model_selection.KFold(n_splits = num_folder, random_state=seed)\n",
    "\n",
    "params= {'criterion':['entropy','gini'], 'splitter':['best','random']}\n",
    "\n",
    "scoring = 'accuracy'\n",
    "\n",
    "model = model_selection.GridSearchCV(estimator=DecisionTreeClassifier(random_state=seed), param_grid=params, cv=kfold, scoring=scoring)\n",
    "model.fit(X,Y)\n",
    "\n",
    "print ('Best scores are: %.3f%%') %(model.best_score_ *100)\n",
    "print ('Best hyper params are : %s') %(model.best_params_)\n",
    "print ('Best estimator is: %s') %(model.estimator)h"
   ]
  },
  {
   "cell_type": "markdown",
   "metadata": {},
   "source": [
    "### 2.随机搜索参数优化"
   ]
  },
  {
   "cell_type": "code",
   "execution_count": 36,
   "metadata": {},
   "outputs": [
    {
     "name": "stdout",
     "output_type": "stream",
     "text": [
      "Best scores are: 77.083%\n",
      "Best hyper params are : {'bootstrap': True, 'min_samples_leaf': 9, 'min_samples_split': 2, 'criterion': 'gini', 'max_features': 3, 'max_depth': None}\n",
      "Best estimator is: RandomForestClassifier(bootstrap=True, class_weight=None, criterion='gini',\n",
      "            max_depth=None, max_features='auto', max_leaf_nodes=None,\n",
      "            min_impurity_decrease=0.0, min_impurity_split=None,\n",
      "            min_samples_leaf=1, min_samples_split=2,\n",
      "            min_weight_fraction_leaf=0.0, n_estimators=20, n_jobs=1,\n",
      "            oob_score=False, random_state=15, verbose=0, warm_start=False)\n"
     ]
    }
   ],
   "source": [
    "import pandas as pd\n",
    "import scipy as sp\n",
    "import numpy as np\n",
    "from sklearn import model_selection\n",
    "from sklearn.ensemble import RandomForestClassifier\n",
    "from scipy.stats import randint as sp_randint\n",
    "\n",
    "filename = 'pima-indians-diabetes.data.csv'\n",
    "names = ['preg', 'plas', 'pres', 'skin', 'test', 'mass', 'pedi', 'age', 'class']\n",
    "dataframe = pd.read_csv(filename, delimiter=',', header=None, names=names)\n",
    "\n",
    "data_array = dataframe.values\n",
    "X = data_array[:,0:8]\n",
    "Y = data_array[:,8]\n",
    "\n",
    "seed = 15   # to get the same result, use fixed seed\n",
    "num_folder =10\n",
    "kfold = model_selection.KFold(n_splits = num_folder, random_state=seed)\n",
    "\n",
    "param_dist = {'max_depth': [3, None],\n",
    "              'max_features': sp_randint(1, len(names)-1),\n",
    "              'min_samples_split': sp_randint(2, 10),\n",
    "              'min_samples_leaf': sp_randint(1, 10),\n",
    "              'bootstrap': [True, False],\n",
    "              'criterion': [\"gini\", \"entropy\"]}\n",
    "\n",
    "\n",
    "scoring = 'accuracy'\n",
    "\n",
    "model = model_selection.RandomizedSearchCV(estimator=RandomForestClassifier(n_estimators=20,random_state=seed), param_distributions=param_dist, cv=kfold, scoring=scoring)\n",
    "model.fit(X,Y)\n",
    "\n",
    "print ('Best scores are: %.3f%%') %(model.best_score_ *100)\n",
    "print ('Best hyper params are : %s') %(model.best_params_)\n",
    "print ('Best estimator is: %s') %(model.estimator)"
   ]
  },
  {
   "cell_type": "code",
   "execution_count": null,
   "metadata": {
    "collapsed": true
   },
   "outputs": [],
   "source": []
  }
 ],
 "metadata": {
  "kernelspec": {
   "display_name": "Python 2",
   "language": "python",
   "name": "python2"
  },
  "language_info": {
   "codemirror_mode": {
    "name": "ipython",
    "version": 3
   },
   "file_extension": ".py",
   "mimetype": "text/x-python",
   "name": "python",
   "nbconvert_exporter": "python",
   "pygments_lexer": "ipython3",
   "version": "3.6.3"
  }
 },
 "nbformat": 4,
 "nbformat_minor": 2
}
