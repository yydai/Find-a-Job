{
 "cells": [
  {
   "cell_type": "markdown",
   "metadata": {},
   "source": [
    "# 一、数据准备"
   ]
  },
  {
   "cell_type": "markdown",
   "metadata": {},
   "source": [
    "### 1.数据缩放"
   ]
  },
  {
   "cell_type": "markdown",
   "metadata": {},
   "source": [
    "缩放数据到（0-1），机器学习核心算法如梯度下降；设置输入权重如回归、神经网络；基于距离度量算法如KNN中使用"
   ]
  },
  {
   "cell_type": "markdown",
   "metadata": {},
   "source": [
    "# Sklearn Preprocessing\n",
    "\n",
    "关于为什么需要预处理数据，下面这个链接有些介绍。\n",
    "这部分介绍的主要是异常值的处理\n",
    "\n",
    "http://scikit-learn.org/stable/auto_examples/preprocessing/plot_all_scaling.html#results\n",
    "\n",
    "下面是对preprocessing 的介绍：\n",
    "\n",
    "http://scikit-learn.org/stable/modules/preprocessing.html\n"
   ]
  },
  {
   "cell_type": "code",
   "execution_count": 19,
   "metadata": {},
   "outputs": [
    {
     "name": "stdout",
     "output_type": "stream",
     "text": [
      "(768L, 8L)\n",
      "[[ 0.353  0.744  0.59  ...,  0.501  0.234  0.483]\n",
      " [ 0.059  0.427  0.541 ...,  0.396  0.117  0.167]\n",
      " [ 0.471  0.92   0.525 ...,  0.347  0.254  0.183]\n",
      " ..., \n",
      " [ 0.294  0.608  0.59  ...,  0.39   0.071  0.15 ]\n",
      " [ 0.059  0.633  0.492 ...,  0.449  0.116  0.433]\n",
      " [ 0.059  0.467  0.574 ...,  0.453  0.101  0.033]]\n"
     ]
    }
   ],
   "source": [
    "import pandas as pd\n",
    "import scipy as sp\n",
    "import numpy as np\n",
    "import sklearn.preprocessing as pp\n",
    "\n",
    "filename = 'pima-indians-diabetes.data.csv'\n",
    "names = ['preg', 'plas', 'pres', 'skin', 'test', 'mass', 'pedi', 'age', 'class']\n",
    "dataframe = pd.read_csv(filename, delimiter=',', header=None, names=names)\n",
    "\n",
    "data_array = dataframe.values\n",
    "X = data_array[:,0:8]\n",
    "Y = data_array[:,8]\n",
    "\n",
    "scaler = pp.MinMaxScaler(feature_range=(0,1))\n",
    "scaler.fit(X)\n",
    "newX = scaler.transform(X)\n",
    "\n",
    "np.set_printoptions(precision=3)\n",
    "\n",
    "print (newX.shape)\n",
    "print (newX)"
   ]
  },
  {
   "cell_type": "markdown",
   "metadata": {},
   "source": [
    "### 2.标准化数据"
   ]
  },
  {
   "cell_type": "markdown",
   "metadata": {},
   "source": [
    "假定数据是正态分布，将数据处理为标准正态分布（0,1），适合线性回归、逻辑回归、线性判别分析"
   ]
  },
  {
   "cell_type": "code",
   "execution_count": 1,
   "metadata": {},
   "outputs": [
    {
     "name": "stdout",
     "output_type": "stream",
     "text": [
      "(768, 8)\n",
      "[[ 0.64   0.848  0.15  ...  0.204  0.468  1.426]\n",
      " [-0.845 -1.123 -0.161 ... -0.684 -0.365 -0.191]\n",
      " [ 1.234  1.944 -0.264 ... -1.103  0.604 -0.106]\n",
      " ...\n",
      " [ 0.343  0.003  0.15  ... -0.735 -0.685 -0.276]\n",
      " [-0.845  0.16  -0.471 ... -0.24  -0.371  1.171]\n",
      " [-0.845 -0.873  0.046 ... -0.202 -0.474 -0.871]]\n"
     ]
    }
   ],
   "source": [
    "import pandas as pd\n",
    "import scipy as sp\n",
    "import numpy as np\n",
    "import sklearn.preprocessing as pp\n",
    "import matplotlib.pyplot as plt\n",
    "%matplotlib inline\n",
    "\n",
    "filename = 'pima-indians-diabetes.data.csv'\n",
    "names = ['preg', 'plas', 'pres', 'skin', 'test', 'mass', 'pedi', 'age', 'class']\n",
    "dataframe = pd.read_csv(filename, delimiter=',', header=None, names=names)\n",
    "\n",
    "data_array = dataframe.values\n",
    "X = data_array[:,0:8]\n",
    "Y = data_array[:,8]\n",
    "\n",
    "scaler = pp.StandardScaler()\n",
    "scaler.fit(X)\n",
    "newX = scaler.transform(X)\n",
    "\n",
    "np.set_printoptions(precision=3)\n",
    "\n",
    "print (newX.shape)\n",
    "print (newX)\n"
   ]
  },
  {
   "cell_type": "markdown",
   "metadata": {},
   "source": [
    "### 3.规一化数据"
   ]
  },
  {
   "cell_type": "markdown",
   "metadata": {},
   "source": [
    "将行数据转换为长度为1的向量，应用于向量空间模型、稀疏数据，在文本分类和聚类、神经网络算法、距离度量KNN算法中使用"
   ]
  },
  {
   "cell_type": "code",
   "execution_count": 22,
   "metadata": {},
   "outputs": [
    {
     "name": "stdout",
     "output_type": "stream",
     "text": [
      "(768L, 8L)\n",
      "[[ 0.034  0.828  0.403 ...,  0.188  0.004  0.28 ]\n",
      " [ 0.008  0.716  0.556 ...,  0.224  0.003  0.261]\n",
      " [ 0.04   0.924  0.323 ...,  0.118  0.003  0.162]\n",
      " ..., \n",
      " [ 0.027  0.651  0.388 ...,  0.141  0.001  0.161]\n",
      " [ 0.007  0.838  0.399 ...,  0.2    0.002  0.313]\n",
      " [ 0.008  0.736  0.554 ...,  0.241  0.002  0.182]]\n"
     ]
    }
   ],
   "source": [
    "import pandas as pd\n",
    "import scipy as sp\n",
    "import numpy as np\n",
    "import sklearn.preprocessing as pp\n",
    "\n",
    "filename = 'pima-indians-diabetes.data.csv'\n",
    "names = ['preg', 'plas', 'pres', 'skin', 'test', 'mass', 'pedi', 'age', 'class']\n",
    "dataframe = pd.read_csv(filename, delimiter=',', header=None, names=names)\n",
    "\n",
    "data_array = dataframe.values\n",
    "X = data_array[:,0:8]\n",
    "Y = data_array[:,8]\n",
    "\n",
    "scaler = pp.Normalizer(norm='l2')\n",
    "scaler.fit(X)\n",
    "newX = scaler.transform(X)\n",
    "\n",
    "np.set_printoptions(precision=3)\n",
    "\n",
    "print (newX.shape)\n",
    "print (newX)"
   ]
  },
  {
   "cell_type": "markdown",
   "metadata": {},
   "source": [
    "### 4.二值化数据"
   ]
  },
  {
   "cell_type": "markdown",
   "metadata": {},
   "source": [
    "将类别数据转化为二进制数据，在特征工程、文本处理中使用"
   ]
  },
  {
   "cell_type": "code",
   "execution_count": 24,
   "metadata": {},
   "outputs": [
    {
     "name": "stdout",
     "output_type": "stream",
     "text": [
      "(768L, 8L)\n",
      "[[ 1.  1.  1. ...,  1.  1.  1.]\n",
      " [ 1.  1.  1. ...,  1.  1.  1.]\n",
      " [ 1.  1.  1. ...,  1.  1.  1.]\n",
      " ..., \n",
      " [ 1.  1.  1. ...,  1.  1.  1.]\n",
      " [ 1.  1.  1. ...,  1.  1.  1.]\n",
      " [ 1.  1.  1. ...,  1.  1.  1.]]\n"
     ]
    }
   ],
   "source": [
    "import pandas as pd\n",
    "import scipy as sp\n",
    "import numpy as np\n",
    "import sklearn.preprocessing as pp\n",
    "\n",
    "filename = 'pima-indians-diabetes.data.csv'\n",
    "names = ['preg', 'plas', 'pres', 'skin', 'test', 'mass', 'pedi', 'age', 'class']\n",
    "dataframe = pd.read_csv(filename, delimiter=',', header=None, names=names)\n",
    "\n",
    "data_array = dataframe.values\n",
    "X = data_array[:,0:8]\n",
    "Y = data_array[:,8]\n",
    "\n",
    "scaler = pp.Binarizer(threshold=0.0)\n",
    "scaler.fit(X)\n",
    "newX = scaler.transform(X)\n",
    "\n",
    "np.set_printoptions(precision=3)\n",
    "\n",
    "print (newX.shape)\n",
    "print (newX)"
   ]
  },
  {
   "cell_type": "markdown",
   "metadata": {},
   "source": [
    "# 二、特征选择"
   ]
  },
  {
   "cell_type": "markdown",
   "metadata": {},
   "source": [
    "通过选择特征可以降低过拟合风险、提升准确度、减少训练时间"
   ]
  },
  {
   "cell_type": "markdown",
   "metadata": {},
   "source": [
    "### 1.变量选择"
   ]
  },
  {
   "cell_type": "code",
   "execution_count": 5,
   "metadata": {},
   "outputs": [
    {
     "name": "stdout",
     "output_type": "stream",
     "text": [
      "(768, 9)\n",
      "[ 111.52  1411.887   17.605   53.108 2175.565  127.669    5.393  181.304]\n",
      "(768, 4)\n",
      "[[148.    0.   33.6  50. ]\n",
      " [ 85.    0.   26.6  31. ]\n",
      " [183.    0.   23.3  32. ]\n",
      " ...\n",
      " [121.  112.   26.2  30. ]\n",
      " [126.    0.   30.1  47. ]\n",
      " [ 93.    0.   30.4  23. ]]\n"
     ]
    }
   ],
   "source": [
    "import pandas as pd\n",
    "import scipy as sp\n",
    "import numpy as np\n",
    "import sklearn.feature_selection as fs\n",
    "\n",
    "filename = 'pima-indians-diabetes.data.csv'\n",
    "names = ['preg', 'plas', 'pres', 'skin', 'test', 'mass', 'pedi', 'age', 'class']\n",
    "dataframe = pd.read_csv(filename, delimiter=',', header=None, names=names)\n",
    "\n",
    "data_array = dataframe.values\n",
    "print(data_array.shape)\n",
    "X = data_array[:,0:8]\n",
    "Y = data_array[:,8]\n",
    "\n",
    "\n",
    "# 这里的score_func使用的是chi2也就是卡方分布\n",
    "selector = fs.SelectKBest(score_func=fs.chi2, k=4)\n",
    "\n",
    "selector.fit(X,Y)\n",
    "\n",
    "print (selector.scores_)\n",
    "\n",
    "X_best = selector.transform(X)\n",
    "\n",
    "np.set_printoptions(precision=3)\n",
    "\n",
    "print (X_best.shape)\n",
    "print (X_best)"
   ]
  },
  {
   "cell_type": "markdown",
   "metadata": {},
   "source": [
    "### 2.递归特征删除"
   ]
  },
  {
   "cell_type": "code",
   "execution_count": 12,
   "metadata": {},
   "outputs": [
    {
     "name": "stdout",
     "output_type": "stream",
     "text": [
      "number of features : 3\n",
      "feature supports : [ True False False False False  True  True False]\n",
      "feature ranking : [1 2 3 5 6 1 1 4]\n",
      "[ 1.    85.    66.    29.     0.    26.6    0.351 31.   ]\n",
      "[[ 6.    33.6    0.627]\n",
      " [ 1.    26.6    0.351]\n",
      " [ 8.    23.3    0.672]\n",
      " ...\n",
      " [ 5.    26.2    0.245]\n",
      " [ 1.    30.1    0.349]\n",
      " [ 1.    30.4    0.315]]\n"
     ]
    }
   ],
   "source": [
    "import pandas as pd\n",
    "import scipy as sp\n",
    "import numpy as np\n",
    "import sklearn.feature_selection as fs\n",
    "\n",
    "from sklearn.linear_model import LogisticRegression\n",
    "\n",
    "filename = 'pima-indians-diabetes.data.csv'\n",
    "names = ['preg', 'plas', 'pres', 'skin', 'test', 'mass', 'pedi', 'age', 'class']\n",
    "dataframe = pd.read_csv(filename, delimiter=',', header=None, names=names)\n",
    "\n",
    "data_array = dataframe.values\n",
    "X = data_array[:,0:8]\n",
    "y = data_array[:,8]\n",
    "\n",
    "model = LogisticRegression()\n",
    "\n",
    "selector = fs.RFE(estimator=model, n_features_to_select=3, step=1)\n",
    "\n",
    "selector.fit(X,y)\n",
    "\n",
    "print ('number of features : {}'.format(selector.n_features_))\n",
    "\n",
    "print ('feature supports : {}'.format(selector.support_))\n",
    "\n",
    "print ('feature ranking : {}'.format(selector.ranking_))\n",
    "\n",
    "np.set_printoptions(precision=3)\n",
    "\n",
    "print (X[1])\n",
    "X_best = selector.transform(X)\n",
    "print (X_best)"
   ]
  },
  {
   "cell_type": "markdown",
   "metadata": {},
   "source": [
    "### 3.主成分分析"
   ]
  },
  {
   "cell_type": "code",
   "execution_count": 14,
   "metadata": {},
   "outputs": [
    {
     "name": "stdout",
     "output_type": "stream",
     "text": [
      "explained variance : [0.889 0.062 0.026 0.013 0.007]\n",
      "[[-2.022e-03  9.781e-02  1.609e-02  6.076e-02  9.931e-01  1.401e-02\n",
      "   5.372e-04 -3.565e-03]\n",
      " [-2.265e-02 -9.722e-01 -1.419e-01  5.786e-02  9.463e-02 -4.697e-02\n",
      "  -8.168e-04 -1.402e-01]\n",
      " [-2.246e-02  1.434e-01 -9.225e-01 -3.070e-01  2.098e-02 -1.324e-01\n",
      "  -6.400e-04 -1.255e-01]\n",
      " [-4.905e-02  1.198e-01 -2.627e-01  8.844e-01 -6.555e-02  1.928e-01\n",
      "   2.699e-03 -3.010e-01]\n",
      " [ 1.516e-01 -8.794e-02 -2.322e-01  2.600e-01 -1.723e-04  2.147e-02\n",
      "   1.641e-03  9.205e-01]]\n",
      "[[  6.    148.     72.    ...  33.6     0.627  50.   ]\n",
      " [  1.     85.     66.    ...  26.6     0.351  31.   ]\n",
      " [  8.    183.     64.    ...  23.3     0.672  32.   ]\n",
      " ...\n",
      " [  5.    121.     72.    ...  26.2     0.245  30.   ]\n",
      " [  1.    126.     60.    ...  30.1     0.349  47.   ]\n",
      " [  1.     93.     70.    ...  30.4     0.315  23.   ]]\n"
     ]
    }
   ],
   "source": [
    "import pandas as pd\n",
    "import scipy as sp\n",
    "import numpy as np\n",
    "\n",
    "\n",
    "from sklearn.decomposition import PCA\n",
    "\n",
    "filename = 'pima-indians-diabetes.data.csv'\n",
    "names = ['preg', 'plas', 'pres', 'skin', 'test', 'mass', 'pedi', 'age', 'class']\n",
    "dataframe = pd.read_csv(filename, delimiter=',', header=None, names=names)\n",
    "\n",
    "data_array = dataframe.values\n",
    "X = data_array[:,0:8]\n",
    "Y = data_array[:,8]\n",
    "\n",
    "\n",
    "pca = PCA(n_components=5)\n",
    "\n",
    "pca.fit(X)\n",
    "\n",
    "print ('explained variance : {}'.format(pca.explained_variance_ratio_))\n",
    "\n",
    "print (pca.components_)\n",
    "\n",
    "np.set_printoptions(precision=3)"
   ]
  },
  {
   "cell_type": "markdown",
   "metadata": {},
   "source": [
    "### 4.重要特征"
   ]
  },
  {
   "cell_type": "code",
   "execution_count": 50,
   "metadata": {},
   "outputs": [
    {
     "name": "stdout",
     "output_type": "stream",
     "text": [
      "[ 0.098  0.247  0.103  0.08   0.076  0.142  0.112  0.142]\n"
     ]
    }
   ],
   "source": [
    "import pandas as pd\n",
    "import scipy as sp\n",
    "import numpy as np\n",
    "\n",
    "\n",
    "from sklearn.ensemble import ExtraTreesClassifier\n",
    "\n",
    "filename = 'pima-indians-diabetes.data.csv'\n",
    "names = ['preg', 'plas', 'pres', 'skin', 'test', 'mass', 'pedi', 'age', 'class']\n",
    "dataframe = pd.read_csv(filename, delimiter=',', header=None, names=names)\n",
    "\n",
    "data_array = dataframe.values\n",
    "X = data_array[:,0:8]\n",
    "Y = data_array[:,8]\n",
    "\n",
    "\n",
    "etc = ExtraTreesClassifier(n_estimators=10)\n",
    "\n",
    "etc.fit(X,y)\n",
    "\n",
    "\n",
    "np.set_printoptions(precision=3)\n",
    "\n",
    "print (etc.feature_importances_)\n"
   ]
  },
  {
   "cell_type": "code",
   "execution_count": null,
   "metadata": {
    "collapsed": true
   },
   "outputs": [],
   "source": []
  }
 ],
 "metadata": {
  "kernelspec": {
   "display_name": "python3",
   "language": "python",
   "name": "assignment1"
  },
  "language_info": {
   "codemirror_mode": {
    "name": "ipython",
    "version": 3
   },
   "file_extension": ".py",
   "mimetype": "text/x-python",
   "name": "python",
   "nbconvert_exporter": "python",
   "pygments_lexer": "ipython3",
   "version": "3.6.1"
  }
 },
 "nbformat": 4,
 "nbformat_minor": 2
}
