{
 "cells": [
  {
   "cell_type": "markdown",
   "metadata": {},
   "source": [
    "# 一、分类"
   ]
  },
  {
   "cell_type": "markdown",
   "metadata": {},
   "source": [
    "### 1.逻辑回归"
   ]
  },
  {
   "cell_type": "code",
   "execution_count": 4,
   "metadata": {},
   "outputs": [
    {
     "name": "stdout",
     "output_type": "stream",
     "text": [
      "Automatic calling is: Smart\n"
     ]
    }
   ],
   "source": [
    "from __future__ import print_function\n",
    "%autocall 1"
   ]
  },
  {
   "cell_type": "code",
   "execution_count": 16,
   "metadata": {},
   "outputs": [
    {
     "name": "stdout",
     "output_type": "stream",
     "text": [
      "Scores are: [0.7012987  0.81818182 0.74025974 0.71428571 0.77922078 0.75324675\n",
      " 0.85714286 0.80519481 0.72368421 0.80263158]\n",
      "Accuracy is : 76.95% STD is :0.05\n"
     ]
    }
   ],
   "source": [
    "import pandas as pd\n",
    "import scipy as sp\n",
    "import numpy as np\n",
    "from sklearn.linear_model import LogisticRegression\n",
    "from sklearn.svm import SVC\n",
    "from sklearn import model_selection\n",
    "\n",
    "filename = 'pima-indians-diabetes.data.csv'\n",
    "names = ['preg', 'plas', 'pres', 'skin', 'test', 'mass', 'pedi', 'age', 'class']\n",
    "dataframe = pd.read_csv(filename, delimiter=',', header=None, names=names)\n",
    "\n",
    "data_array = dataframe.values\n",
    "X = data_array[:,0:8]\n",
    "Y = data_array[:,8]\n",
    "\n",
    "seed = 15   # to get the same result, use fixed seed\n",
    "num_folder =10\n",
    "kfold = model_selection.KFold(n_splits = num_folder, random_state=seed)\n",
    "\n",
    "\n",
    "model = LogisticRegression()\n",
    "model2 = SVC()\n",
    "\n",
    "scores = model_selection.cross_val_score(estimator=model, X=X, y=Y, cv=kfold)\n",
    "\n",
    "print ('Scores are: {}'.format(scores))\n",
    "\n",
    "print ('Accuracy is : {:0,.2f}% STD is :{:0,.2f}'.format(scores.mean()*100, scores.std(), '0.2f'))"
   ]
  },
  {
   "cell_type": "markdown",
   "metadata": {},
   "source": [
    "### 2.线性判别分析"
   ]
  },
  {
   "cell_type": "code",
   "execution_count": 18,
   "metadata": {},
   "outputs": [
    {
     "name": "stdout",
     "output_type": "stream",
     "text": [
      "Scores are: [0.7012987  0.83116883 0.75324675 0.67532468 0.77922078 0.76623377\n",
      " 0.84415584 0.81818182 0.76315789 0.80263158]\n",
      "Accuracy is : 77.346% STD is :0.052\n"
     ]
    }
   ],
   "source": [
    "import pandas as pd\n",
    "import scipy as sp\n",
    "import numpy as np\n",
    "from sklearn.discriminant_analysis import LinearDiscriminantAnalysis\n",
    "from sklearn import model_selection\n",
    "\n",
    "filename = 'pima-indians-diabetes.data.csv'\n",
    "names = ['preg', 'plas', 'pres', 'skin', 'test', 'mass', 'pedi', 'age', 'class']\n",
    "dataframe = pd.read_csv(filename, delimiter=',', header=None, names=names)\n",
    "\n",
    "data_array = dataframe.values\n",
    "X = data_array[:,0:8]\n",
    "Y = data_array[:,8]\n",
    "\n",
    "seed = 15   # to get the same result, use fixed seed\n",
    "num_folder =10\n",
    "kfold = model_selection.KFold(n_splits = num_folder, random_state=seed)\n",
    "\n",
    "model = LinearDiscriminantAnalysis()\n",
    "\n",
    "scores = model_selection.cross_val_score(estimator=model, X=X, y=Y, cv=kfold)\n",
    "\n",
    "print ('Scores are: {}'.format(scores))\n",
    "\n",
    "print ('Accuracy is : {:0,.3f}% STD is :{:0,.3f}'.format(scores.mean()*100, scores.std(), '0.2f'))"
   ]
  },
  {
   "cell_type": "markdown",
   "metadata": {},
   "source": [
    "### 3.K近邻"
   ]
  },
  {
   "cell_type": "code",
   "execution_count": 4,
   "metadata": {},
   "outputs": [
    {
     "name": "stdout",
     "output_type": "stream",
     "text": [
      "Scores are: [ 0.63636364  0.83116883  0.7012987   0.63636364  0.71428571  0.75324675\n",
      "  0.74025974  0.80519481  0.68421053  0.76315789]\n",
      "Accuracy is : 72.656%, STD is :0.062\n"
     ]
    }
   ],
   "source": [
    "import pandas as pd\n",
    "import scipy as sp\n",
    "import numpy as np\n",
    "from sklearn.neighbors import KNeighborsClassifier\n",
    "from sklearn import model_selection\n",
    "\n",
    "filename = 'pima-indians-diabetes.data.csv'\n",
    "names = ['preg', 'plas', 'pres', 'skin', 'test', 'mass', 'pedi', 'age', 'class']\n",
    "dataframe = pd.read_csv(filename, delimiter=',', header=None, names=names)\n",
    "\n",
    "data_array = dataframe.values\n",
    "X = data_array[:,0:8]\n",
    "Y = data_array[:,8]\n",
    "\n",
    "seed = 15   # to get the same result, use fixed seed\n",
    "num_folder =10\n",
    "kfold = model_selection.KFold(n_splits = num_folder, random_state=seed)\n",
    "\n",
    "model = KNeighborsClassifier(n_neighbors=5)\n",
    "\n",
    "scores = model_selection.cross_val_score(estimator=model, X=X, y=Y, cv=kfold)\n",
    "\n",
    "print ('Scores are: %s') %(scores)\n",
    "print ('Accuracy is : %.3f%%, STD is :%.3f') %(scores.mean()*100, scores.std())"
   ]
  },
  {
   "cell_type": "markdown",
   "metadata": {},
   "source": [
    "### 4.朴素贝叶斯"
   ]
  },
  {
   "cell_type": "code",
   "execution_count": 8,
   "metadata": {},
   "outputs": [
    {
     "name": "stdout",
     "output_type": "stream",
     "text": [
      "Scores are: [ 0.67532468  0.80519481  0.75324675  0.71428571  0.72727273  0.76623377\n",
      "  0.80519481  0.81818182  0.73684211  0.75      ]\n",
      "Accuracy is : 75.518%, STD is :0.043\n"
     ]
    }
   ],
   "source": [
    "import pandas as pd\n",
    "import scipy as sp\n",
    "import numpy as np\n",
    "from sklearn.naive_bayes import GaussianNB\n",
    "from sklearn import model_selection\n",
    "\n",
    "filename = 'pima-indians-diabetes.data.csv'\n",
    "names = ['preg', 'plas', 'pres', 'skin', 'test', 'mass', 'pedi', 'age', 'class']\n",
    "dataframe = pd.read_csv(filename, delimiter=',', header=None, names=names)\n",
    "\n",
    "data_array = dataframe.values\n",
    "X = data_array[:,0:8]\n",
    "Y = data_array[:,8]\n",
    "\n",
    "seed = 15   # to get the same result, use fixed seed\n",
    "num_folder =10\n",
    "kfold = model_selection.KFold(n_splits = num_folder, random_state=seed)\n",
    "\n",
    "model = GaussianNB()\n",
    "\n",
    "scores = model_selection.cross_val_score(estimator=model, X=X, y=Y, cv=kfold)\n",
    "\n",
    "print ('Scores are: %s') %(scores)\n",
    "print ('Accuracy is : %.3f%%, STD is :%.3f') %(scores.mean()*100, scores.std())"
   ]
  },
  {
   "cell_type": "markdown",
   "metadata": {},
   "source": [
    "### 5.决策树"
   ]
  },
  {
   "cell_type": "code",
   "execution_count": 14,
   "metadata": {},
   "outputs": [
    {
     "name": "stdout",
     "output_type": "stream",
     "text": [
      "Scores are: [ 0.62337662  0.79220779  0.66233766  0.58441558  0.68831169  0.74025974\n",
      "  0.75324675  0.74025974  0.63157895  0.63157895]\n",
      "Accuracy is : 68.476%, STD is :0.065\n"
     ]
    }
   ],
   "source": [
    "import pandas as pd\n",
    "import scipy as sp\n",
    "import numpy as np\n",
    "from sklearn.tree import DecisionTreeClassifier\n",
    "from sklearn import model_selection\n",
    "\n",
    "filename = 'pima-indians-diabetes.data.csv'\n",
    "names = ['preg', 'plas', 'pres', 'skin', 'test', 'mass', 'pedi', 'age', 'class']\n",
    "dataframe = pd.read_csv(filename, delimiter=',', header=None, names=names)\n",
    "\n",
    "data_array = dataframe.values\n",
    "X = data_array[:,0:8]\n",
    "Y = data_array[:,8]\n",
    "\n",
    "seed = 15  # to get the same result, use fixed seed\n",
    "num_folder =10\n",
    "kfold = model_selection.KFold(n_splits = num_folder, random_state=seed)\n",
    "\n",
    "model = DecisionTreeClassifier()\n",
    "\n",
    "scores = model_selection.cross_val_score(estimator=model, X=X, y=Y, cv=kfold)\n",
    "\n",
    "print ('Scores are: %s') %(scores)\n",
    "print ('Accuracy is : %.3f%%, STD is :%.3f') %(scores.mean()*100, scores.std())"
   ]
  },
  {
   "cell_type": "code",
   "execution_count": 17,
   "metadata": {},
   "outputs": [
    {
     "name": "stdout",
     "output_type": "stream",
     "text": [
      "Scores are: [ 0.58441558  0.71428571  0.55844156  0.61038961  0.64935065  0.61038961\n",
      "  0.81818182  0.67532468  0.68421053  0.60526316]\n",
      "Accuracy is : 65.103%, STD is :0.072\n"
     ]
    }
   ],
   "source": [
    "import pandas as pd\n",
    "import scipy as sp\n",
    "import numpy as np\n",
    "from sklearn.svm import SVC\n",
    "from sklearn import model_selection\n",
    "\n",
    "filename = 'pima-indians-diabetes.data.csv'\n",
    "names = ['preg', 'plas', 'pres', 'skin', 'test', 'mass', 'pedi', 'age', 'class']\n",
    "dataframe = pd.read_csv(filename, delimiter=',', header=None, names=names)\n",
    "\n",
    "data_array = dataframe.values\n",
    "X = data_array[:,0:8]\n",
    "Y = data_array[:,8]\n",
    "\n",
    "seed = 15  # to get the same result, use fixed seed\n",
    "num_folder =10\n",
    "kfold = model_selection.KFold(n_splits = num_folder, random_state=seed)\n",
    "\n",
    "model = SVC(kernel='rbf')\n",
    "\n",
    "scores = model_selection.cross_val_score(estimator=model, X=X, y=Y, cv=kfold)\n",
    "\n",
    "print ('Scores are: %s') %(scores)\n",
    "print ('Accuracy is : %.3f%%, STD is :%.3f') %(scores.mean()*100, scores.std())"
   ]
  },
  {
   "cell_type": "markdown",
   "metadata": {},
   "source": [
    "# 二、回归"
   ]
  },
  {
   "cell_type": "markdown",
   "metadata": {},
   "source": [
    "### 1.线性回归"
   ]
  },
  {
   "cell_type": "code",
   "execution_count": 24,
   "metadata": {},
   "outputs": [
    {
     "name": "stdout",
     "output_type": "stream",
     "text": [
      "(505, 14)\n",
      "      CRIM   ZN  INDUS  CHAS    NOX     RM   AGE     DIS  RAD  TAX  PTRATIO  \\\n",
      "0  0.02731  0.0   7.07     0  0.469  6.421  78.9  4.9671    2  242     17.8   \n",
      "1  0.02729  0.0   7.07     0  0.469  7.185  61.1  4.9671    2  242     17.8   \n",
      "2  0.03237  0.0   2.18     0  0.458  6.998  45.8  6.0622    3  222     18.7   \n",
      "3  0.06905  0.0   2.18     0  0.458  7.147  54.2  6.0622    3  222     18.7   \n",
      "4  0.02985  0.0   2.18     0  0.458  6.430  58.7  6.0622    3  222     18.7   \n",
      "\n",
      "        B  LSTAT  MEDV  \n",
      "0  396.90   9.14  21.6  \n",
      "1  392.83   4.03  34.7  \n",
      "2  394.63   2.94  33.4  \n",
      "3  396.90   5.33  36.2  \n",
      "4  394.12   5.21  28.7  \n",
      "[  -8.70983468  -13.94827866  -15.27249078  -37.60234655  -30.67895992\n",
      "  -19.92314843  -10.04657328 -167.98953108  -33.03993453  -10.93011923]\n",
      "Negative Mean squared score is: -34.81412171405005 , STD is 45.46209610531253\n"
     ]
    }
   ],
   "source": [
    "import pandas as pd\n",
    "import scipy as sp\n",
    "import numpy as np\n",
    "from sklearn.linear_model import LinearRegression\n",
    "from sklearn import model_selection\n",
    "\n",
    "# In this place, MEDV is the target goal\n",
    "\n",
    "filename = 'Boston_Housing.csv'\n",
    "names = ['CRIM', 'ZN', 'INDUS', 'CHAS', 'NOX', 'RM', 'AGE', 'DIS', 'RAD', 'TAX', 'PTRATIO','B', 'LSTAT', 'MEDV']\n",
    "\n",
    "dataframe = pd.read_csv(filename, delimiter=',', header=1, names=names)\n",
    "\n",
    "print(dataframe.shape)\n",
    "print(dataframe.head(5))\n",
    "\n",
    "\n",
    "data_array = dataframe.values\n",
    "X = data_array[:,0:13]\n",
    "Y = data_array[:,13]\n",
    "\n",
    "num_folders = 10\n",
    "seed = 15   # to get the same result, use fixed seed\n",
    "\n",
    "kfold = model_selection.KFold(n_splits=num_folders, random_state=seed)\n",
    "\n",
    "scoring = 'neg_mean_squared_error'\n",
    "model = LinearRegression()\n",
    "\n",
    "scores = model_selection.cross_val_score(estimator=model, X=X, y=Y, cv=kfold, scoring=scoring)\n",
    "\n",
    "print (scores)\n",
    "\n",
    "print ('Negative Mean squared score is: {} , STD is {}'.format(scores.mean(), scores.std()))"
   ]
  },
  {
   "cell_type": "markdown",
   "metadata": {},
   "source": [
    "### 2.岭回归"
   ]
  },
  {
   "cell_type": "code",
   "execution_count": 32,
   "metadata": {},
   "outputs": [
    {
     "name": "stdout",
     "output_type": "stream",
     "text": [
      "[ -10.40265387  -10.59245431   -6.25877085  -60.81787047  -29.72811796\n",
      "  -33.90152818  -11.98856191 -126.43604462  -25.81781975   -8.53011056]\n",
      "Negative Mean squared score is: -32.447 , STD is 35.117\n",
      "('Ridge Coefficents: ', [-0.10400311331904516, 0.04712336160064484, -0.015122453808880158, 2.5370350559736963, -10.69294002796386, 3.837371254439601, -0.004965976990385872, -1.3771989007032697, 0.28556804484103515, -0.01261463172815473, -0.8830503405619201, 0.009663882198321138, -0.5362415530312018])\n"
     ]
    }
   ],
   "source": [
    "import pandas as pd\n",
    "import scipy as sp\n",
    "import numpy as np\n",
    "from sklearn.linear_model import Ridge\n",
    "from sklearn import model_selection\n",
    "\n",
    "\n",
    "filename = 'Boston_Housing.csv'\n",
    "names = ['CRIM', 'ZN', 'INDUS', 'CHAS', 'NOX', 'RM', 'AGE', 'DIS', 'RAD', 'TAX', 'PTRATIO','B', 'LSTAT', 'MEDV']\n",
    "dataframe = pd.read_csv(filename, delimiter=',', header=1, names=names)\n",
    "\n",
    "data_array = dataframe.values\n",
    "X = data_array[:,0:13]\n",
    "Y = data_array[:,13]\n",
    "\n",
    "num_folders = 10\n",
    "seed = 15   # to get the same result, use fixed seed\n",
    "\n",
    "kfold = model_selection.KFold(n_splits=num_folders, random_state=seed)\n",
    "\n",
    "scoring = 'neg_mean_squared_error'\n",
    "model = Ridge(alpha=0.5, normalize=True)\n",
    "\n",
    "scores = model_selection.cross_val_score(estimator=model, X=X, y=Y, cv=kfold, scoring=scoring)\n",
    "\n",
    "print (scores)\n",
    "\n",
    "print ('Negative Mean squared score is: %.3f , STD is %.3f') %(scores.mean(), scores.std())\n",
    "\n",
    "model2 = Ridge(alpha=1.0,)\n",
    "model2.fit(X,Y)\n",
    "print ('Ridge Coefficents: ', model2.coef_.tolist())\n"
   ]
  },
  {
   "cell_type": "markdown",
   "metadata": {},
   "source": [
    "### 3.LASSO 线性回归"
   ]
  },
  {
   "cell_type": "code",
   "execution_count": 26,
   "metadata": {},
   "outputs": [
    {
     "name": "stdout",
     "output_type": "stream",
     "text": [
      "[ -40.15548672  -30.99276211  -31.32371911 -208.95696529  -87.9386448\n",
      " -176.2027249   -16.57249547 -181.04564931 -116.81528463  -35.90890943]\n",
      "Negative Mean squared score is: -92.591 , STD is 69.465\n",
      "('Lasso Coefficents: ', [-0.0, 0.0, -0.0, 0.0, -0.0, 2.947118589415954, -0.0, 0.0, -0.0, -0.0, -0.25577277484893196, 0.0, -0.42977249609219903])\n"
     ]
    }
   ],
   "source": [
    "import pandas as pd\n",
    "import scipy as sp\n",
    "import numpy as np\n",
    "from sklearn.linear_model import Lasso\n",
    "from sklearn import model_selection\n",
    "\n",
    "\n",
    "filename = 'Boston_Housing.csv'\n",
    "names = ['CRIM', 'ZN', 'INDUS', 'CHAS', 'NOX', 'RM', 'AGE', 'DIS', 'RAD', 'TAX', 'PTRATIO','B', 'LSTAT', 'MEDV']\n",
    "dataframe = pd.read_csv(filename, delimiter=',', header=1, names=names)\n",
    "\n",
    "data_array = dataframe.values\n",
    "X = data_array[:,0:13]\n",
    "Y = data_array[:,13]\n",
    "\n",
    "num_folders = 10\n",
    "seed = 15   # to get the same result, use fixed seed\n",
    "\n",
    "kfold = model_selection.KFold(n_splits=num_folders, random_state=seed)\n",
    "\n",
    "scoring = 'neg_mean_squared_error'\n",
    "model = Lasso(alpha=1.0, normalize=True)\n",
    "\n",
    "scores = model_selection.cross_val_score(estimator=model, X=X, y=Y, cv=kfold, scoring=scoring)\n",
    "\n",
    "print (scores)\n",
    "\n",
    "print ('Negative Mean squared score is: %.3f , STD is %.3f') %(scores.mean(), scores.std())\n",
    "\n",
    "model2 = LassoElas(alpha=0.1, normalize=True)\n",
    "model2.fit(X,Y)\n",
    "print ('Lasso Coefficents: ', model2.coef_.tolist())"
   ]
  },
  {
   "cell_type": "markdown",
   "metadata": {},
   "source": [
    "### 4.弹性网回归"
   ]
  },
  {
   "cell_type": "code",
   "execution_count": 31,
   "metadata": {},
   "outputs": [
    {
     "name": "stdout",
     "output_type": "stream",
     "text": [
      "[ -40.15548672  -30.99276211  -31.32371911 -208.95696529  -87.9386448\n",
      " -176.2027249   -16.57249547 -181.04564931 -116.81528463  -35.90890943]\n",
      "Negative Mean squared score is: -92.591 , STD is 69.465\n",
      "('Elastic Coefficents: ', [-0.008983050522466798, 0.0028881280277426678, -0.01535255899914865, 0.06908808641783547, -0.7433253192474673, 0.267207530068153, -0.0024831099580423814, 0.011550477092081407, -0.008094391030986383, -0.0005943400368248055, -0.05628034061827409, 0.0006723386065378714, -0.027565393175657073])\n"
     ]
    }
   ],
   "source": [
    "import pandas as pd\n",
    "import scipy as sp\n",
    "import numpy as np\n",
    "from sklearn.linear_model import ElasticNet\n",
    "from sklearn import model_selection\n",
    "\n",
    "\n",
    "filename = 'Boston_Housing.csv'\n",
    "names = ['CRIM', 'ZN', 'INDUS', 'CHAS', 'NOX', 'RM', 'AGE', 'DIS', 'RAD', 'TAX', 'PTRATIO','B', 'LSTAT', 'MEDV']\n",
    "dataframe = pd.read_csv(filename, delimiter=',', header=1, names=names)\n",
    "\n",
    "data_array = dataframe.values\n",
    "X = data_array[:,0:13]\n",
    "Y = data_array[:,13]\n",
    "\n",
    "num_folders = 10\n",
    "seed = 15   # to get the same result, use fixed seed\n",
    "\n",
    "kfold = model_selection.KFold(n_splits=num_folders, random_state=seed)\n",
    "\n",
    "scoring = 'neg_mean_squared_error'\n",
    "model = ElasticNet(alpha=1.0, l1_ratio=0.5, normalize=True)\n",
    "\n",
    "scores = model_selection.cross_val_score(estimator=model, X=X, y=Y, cv=kfold, scoring=scoring)\n",
    "\n",
    "print (scores)\n",
    "\n",
    "print ('Negative Mean squared score is: %.3f , STD is %.3f') %(scores.mean(), scores.std())\n",
    "\n",
    "model2 = ElasticNet(alpha=0.1, l1_ratio=0.5, normalize=True)\n",
    "model2.fit(X,Y)\n",
    "print ('Elastic Coefficents: ', model2.coef_.tolist())"
   ]
  },
  {
   "cell_type": "markdown",
   "metadata": {},
   "source": [
    "### 5.K近邻"
   ]
  },
  {
   "cell_type": "code",
   "execution_count": 38,
   "metadata": {},
   "outputs": [
    {
     "name": "stdout",
     "output_type": "stream",
     "text": [
      "[ -83.2688848   -62.21221814 -291.91492647 -167.58903186  -95.63939951\n",
      " -127.4489625   -41.896625   -138.1376375   -29.3071625   -25.753775  ]\n",
      "Negative Mean squared score is: -106.317 , STD is 76.695\n"
     ]
    }
   ],
   "source": [
    "import pandas as pd\n",
    "import scipy as sp\n",
    "import numpy as np\n",
    "from sklearn.neighbors import KNeighborsRegressor\n",
    "from sklearn import model_selection\n",
    "\n",
    "\n",
    "filename = 'Boston_Housing.csv'\n",
    "names = ['CRIM', 'ZN', 'INDUS', 'CHAS', 'NOX', 'RM', 'AGE', 'DIS', 'RAD', 'TAX', 'PTRATIO','B', 'LSTAT', 'MEDV']\n",
    "dataframe = pd.read_csv(filename, delimiter=',', header=1, names=names)\n",
    "\n",
    "data_array = dataframe.values\n",
    "X = data_array[:,0:13]\n",
    "Y = data_array[:,13]\n",
    "\n",
    "num_folders = 10\n",
    "seed = 15   # to get the same result, use fixed seed\n",
    "\n",
    "kfold = model_selection.KFold(n_splits=num_folders, random_state=seed)\n",
    "\n",
    "scoring = 'neg_mean_squared_error'\n",
    "model = KNeighborsRegressor(n_neighbors=4, metric='minkowski')\n",
    "\n",
    "scores = model_selection.cross_val_score(estimator=model, X=X, y=Y, cv=kfold, scoring=scoring)\n",
    "\n",
    "print (scores)\n",
    "\n",
    "print ('Negative Mean squared score is: %.3f , STD is %.3f') %(scores.mean(), scores.std())\n"
   ]
  },
  {
   "cell_type": "markdown",
   "metadata": {},
   "source": [
    "### 6.分类回归树"
   ]
  },
  {
   "cell_type": "code",
   "execution_count": 47,
   "metadata": {},
   "outputs": [
    {
     "name": "stdout",
     "output_type": "stream",
     "text": [
      "[-12.61784314  -9.65117647 -15.95921569 -91.10098039 -15.66764706 -45.5046\n",
      " -17.89       -93.6374     -94.2824     -17.0652    ]\n",
      "Negative Mean squared score is: -41.338 , STD is 35.076\n"
     ]
    }
   ],
   "source": [
    "import pandas as pd\n",
    "import scipy as sp\n",
    "import numpy as np\n",
    "from sklearn.tree import DecisionTreeRegressor\n",
    "from sklearn import model_selection\n",
    "\n",
    "\n",
    "filename = 'Boston_Housing.csv'\n",
    "names = ['CRIM', 'ZN', 'INDUS', 'CHAS', 'NOX', 'RM', 'AGE', 'DIS', 'RAD', 'TAX', 'PTRATIO','B', 'LSTAT', 'MEDV']\n",
    "dataframe = pd.read_csv(filename, delimiter=',', header=1, names=names)\n",
    "\n",
    "data_array = dataframe.values\n",
    "X = data_array[:,0:13]\n",
    "Y = data_array[:,13]\n",
    "\n",
    "num_folders = 10\n",
    "seed = 15   # to get the same result, use fixed seed\n",
    "\n",
    "kfold = model_selection.KFold(n_splits=num_folders, random_state=seed)\n",
    "\n",
    "scoring = 'neg_mean_squared_error'\n",
    "model = DecisionTreeRegressor(criterion='mse',random_state=20)\n",
    "\n",
    "scores = model_selection.cross_val_score(estimator=model, X=X, y=Y, cv=kfold, scoring=scoring)\n",
    "\n",
    "print (scores)\n",
    "\n",
    "print ('Negative Mean squared score is: %.3f , STD is %.3f') %(scores.mean(), scores.std())\n"
   ]
  },
  {
   "cell_type": "markdown",
   "metadata": {},
   "source": [
    "### 7.支持向量机"
   ]
  },
  {
   "cell_type": "code",
   "execution_count": 41,
   "metadata": {},
   "outputs": [
    {
     "name": "stdout",
     "output_type": "stream",
     "text": [
      "[ -35.91437028  -39.08614344  -21.28924965 -226.79852073 -103.42176892\n",
      " -196.18335398  -16.3839126  -164.2855269   -86.69364961  -26.13568844]\n",
      "Negative Mean squared score is: -91.619 , STD is 74.437\n"
     ]
    }
   ],
   "source": [
    "import pandas as pd\n",
    "import scipy as sp\n",
    "import numpy as np\n",
    "from sklearn.svm import SVR\n",
    "from sklearn import model_selection\n",
    "\n",
    "\n",
    "filename = 'Boston_Housing.csv'\n",
    "names = ['CRIM', 'ZN', 'INDUS', 'CHAS', 'NOX', 'RM', 'AGE', 'DIS', 'RAD', 'TAX', 'PTRATIO','B', 'LSTAT', 'MEDV']\n",
    "dataframe = pd.read_csv(filename, delimiter=',', header=1, names=names)\n",
    "\n",
    "data_array = dataframe.values\n",
    "X = data_array[:,0:13]\n",
    "Y = data_array[:,13]\n",
    "\n",
    "num_folders = 10\n",
    "seed = 15   # to get the same result, use fixed seed\n",
    "\n",
    "kfold = model_selection.KFold(n_splits=num_folders, random_state=seed)\n",
    "\n",
    "scoring = 'neg_mean_squared_error'\n",
    "model = SVR(kernel='rbf')\n",
    "\n",
    "scores = model_selection.cross_val_score(estimator=model, X=X, y=Y, cv=kfold, scoring=scoring)\n",
    "\n",
    "print (scores)\n",
    "\n",
    "print ('Negative Mean squared score is: %.3f , STD is %.3f') %(scores.mean(), scores.std())\n"
   ]
  },
  {
   "cell_type": "code",
   "execution_count": null,
   "metadata": {
    "collapsed": true
   },
   "outputs": [],
   "source": []
  }
 ],
 "metadata": {
  "kernelspec": {
   "display_name": "python3",
   "language": "python",
   "name": "assignment1"
  },
  "language_info": {
   "codemirror_mode": {
    "name": "ipython",
    "version": 3
   },
   "file_extension": ".py",
   "mimetype": "text/x-python",
   "name": "python",
   "nbconvert_exporter": "python",
   "pygments_lexer": "ipython3",
   "version": "3.6.1"
  }
 },
 "nbformat": 4,
 "nbformat_minor": 2
}
