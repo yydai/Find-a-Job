{
 "cells": [
  {
   "cell_type": "markdown",
   "metadata": {},
   "source": [
    "# 一、数据采样"
   ]
  },
  {
   "cell_type": "markdown",
   "metadata": {},
   "source": [
    "### 1.随机分割法"
   ]
  },
  {
   "cell_type": "code",
   "execution_count": 26,
   "metadata": {},
   "outputs": [
    {
     "name": "stdout",
     "output_type": "stream",
     "text": [
      "Accuracy is: 74.803%\n"
     ]
    }
   ],
   "source": [
    "import pandas as pd\n",
    "import scipy as sp\n",
    "import numpy as np\n",
    "from sklearn.linear_model import LogisticRegression\n",
    "from sklearn import model_selection\n",
    "\n",
    "filename = 'pima-indians-diabetes.data.csv'\n",
    "names = ['preg', 'plas', 'pres', 'skin', 'test', 'mass', 'pedi', 'age', 'class']\n",
    "dataframe = pd.read_csv(filename, delimiter=',', header=None, names=names)\n",
    "\n",
    "data_array = dataframe.values\n",
    "X = data_array[:,0:8]\n",
    "Y = data_array[:,8]\n",
    "\n",
    "test_size = 0.33\n",
    "seed = 15   # to get the same result, use fixed seed\n",
    "\n",
    "X_train, X_test, Y_train, Y_test = model_selection.train_test_split(X, Y, test_size=test_size, random_state=seed)\n",
    "\n",
    "model = LogisticRegression(random_state=seed)\n",
    "\n",
    "model.fit(X_train, Y_train)\n",
    "\n",
    "result = model.score(X_test, Y_test)\n",
    "\n",
    "print ('Accuracy is: %.3f%%') %(result*100)"
   ]
  },
  {
   "cell_type": "markdown",
   "metadata": {},
   "source": [
    "### 2.K折交叉验证"
   ]
  },
  {
   "cell_type": "markdown",
   "metadata": {},
   "source": [
    "一般采用3折、5折、10折交叉验证，实际使用过程中是 10 * 10折，即每次10折，运行10次，也就是100个结果的平均值。"
   ]
  },
  {
   "cell_type": "code",
   "execution_count": 43,
   "metadata": {},
   "outputs": [
    {
     "name": "stdout",
     "output_type": "stream",
     "text": [
      "Scores are: [ 0.7012987   0.81818182  0.74025974  0.71428571  0.77922078  0.75324675\n",
      "  0.85714286  0.80519481  0.72368421  0.80263158]\n",
      "Accuracy is : 76.951%, STD is :0.048\n"
     ]
    }
   ],
   "source": [
    "import pandas as pd\n",
    "import scipy as sp\n",
    "import numpy as np\n",
    "from sklearn.linear_model import LogisticRegression\n",
    "from sklearn import model_selection\n",
    "\n",
    "filename = 'pima-indians-diabetes.data.csv'\n",
    "names = ['preg', 'plas', 'pres', 'skin', 'test', 'mass', 'pedi', 'age', 'class']\n",
    "dataframe = pd.read_csv(filename, delimiter=',', header=None, names=names)\n",
    "\n",
    "data_array = dataframe.values\n",
    "X = data_array[:,0:8]\n",
    "Y = data_array[:,8]\n",
    "\n",
    "seed = 15   # to get the same result, use fixed seed\n",
    "num_folder =10\n",
    "kfold = model_selection.KFold(n_splits = num_folder, random_state=seed)\n",
    "\n",
    "model = LogisticRegression()\n",
    "\n",
    "scores = model_selection.cross_val_score(estimator=model, X=X, y=Y, cv=kfold)\n",
    "\n",
    "print ('Scores are: %s') %(scores)\n",
    "print ('Accuracy is : %.3f%%, STD is :%.3f') %(scores.mean()*100, scores.std())"
   ]
  },
  {
   "cell_type": "markdown",
   "metadata": {},
   "source": [
    "### 3.留一法验证"
   ]
  },
  {
   "cell_type": "code",
   "execution_count": 44,
   "metadata": {},
   "outputs": [
    {
     "name": "stdout",
     "output_type": "stream",
     "text": [
      "Accuracy is : 76.823%, STD is :0.422\n"
     ]
    }
   ],
   "source": [
    "import pandas as pd\n",
    "import scipy as sp\n",
    "import numpy as np\n",
    "from sklearn.linear_model import LogisticRegression\n",
    "from sklearn import model_selection\n",
    "\n",
    "filename = 'pima-indians-diabetes.data.csv'\n",
    "names = ['preg', 'plas', 'pres', 'skin', 'test', 'mass', 'pedi', 'age', 'class']\n",
    "dataframe = pd.read_csv(filename, delimiter=',', header=None, names=names)\n",
    "\n",
    "data_array = dataframe.values\n",
    "X = data_array[:,0:8]\n",
    "Y = data_array[:,8]\n",
    "\n",
    "loo = model_selection.LeaveOneOut()\n",
    "\n",
    "model = LogisticRegression()\n",
    "\n",
    "scores = model_selection.cross_val_score(estimator=model, X=X, y=Y, cv=loo)\n",
    "\n",
    "#print ('Scores are: %s') %(scores)\n",
    "print ('Accuracy is : %.3f%%, STD is :%.3f') %(scores.mean()*100, scores.std())"
   ]
  },
  {
   "cell_type": "markdown",
   "metadata": {},
   "source": [
    "### 4.多次随机分割法"
   ]
  },
  {
   "cell_type": "code",
   "execution_count": 45,
   "metadata": {},
   "outputs": [
    {
     "name": "stdout",
     "output_type": "stream",
     "text": [
      "Scores are: [ 0.7480315   0.75590551  0.7992126   0.76377953  0.77952756  0.76771654\n",
      "  0.76377953  0.78740157  0.76377953  0.7519685 ]\n",
      "Accuracy is : 76.811%, STD is :0.015\n"
     ]
    }
   ],
   "source": [
    "import pandas as pd\n",
    "import scipy as sp\n",
    "import numpy as np\n",
    "from sklearn.linear_model import LogisticRegression\n",
    "from sklearn import model_selection\n",
    "\n",
    "filename = 'pima-indians-diabetes.data.csv'\n",
    "names = ['preg', 'plas', 'pres', 'skin', 'test', 'mass', 'pedi', 'age', 'class']\n",
    "dataframe = pd.read_csv(filename, delimiter=',', header=None, names=names)\n",
    "\n",
    "data_array = dataframe.values\n",
    "X = data_array[:,0:8]\n",
    "Y = data_array[:,8]\n",
    "\n",
    "seed = 15   # to get the same result, use fixed seed\n",
    "num_splits = 10\n",
    "splits = model_selection.ShuffleSplit(n_splits=num_splits, test_size=0.33, random_state=seed)\n",
    "\n",
    "model = LogisticRegression()\n",
    "\n",
    "scores = model_selection.cross_val_score(estimator=model, X=X, y=Y, cv=splits)\n",
    "\n",
    "print ('Scores are: %s') %(scores)\n",
    "print ('Accuracy is : %.3f%%, STD is :%.3f') %(scores.mean()*100, scores.std())"
   ]
  },
  {
   "cell_type": "markdown",
   "metadata": {},
   "source": [
    "# 二、性能指标和度量方法"
   ]
  },
  {
   "cell_type": "markdown",
   "metadata": {},
   "source": [
    "|Scoring|Function|Comment|\n",
    "|:-------|:--------|:----------|\n",
    "|**Classification**|\t \t \n",
    "|‘accuracy’|metrics.accuracy_score|\t \n",
    "|‘average_precision’|metrics.average_precision_score| \n",
    "|‘f1’\t|metrics.f1_score|\tfor binary targets|\n",
    "|‘f1_micro’|\tmetrics.f1_score|\tmicro-averaged|\n",
    "|‘f1_macro’|\tmetrics.f1_score|\tmacro-averaged|\n",
    "|‘f1_weighted’|\tmetrics.f1_score|\tweighted average|\n",
    "|‘f1_samples’|\tmetrics.f1_score|\tby multilabel sample|\n",
    "|‘neg_log_loss’|\tmetrics.log_loss|\trequires predict_proba support|\n",
    "|‘precision’ etc.|\tmetrics.precision_score|\tsuffixes apply as with ‘f1’|\n",
    "|‘recall’ etc.|\tmetrics.recall_score|\tsuffixes apply as with ‘f1’\n",
    "|‘roc_auc’|\tmetrics.roc_auc_score|\n",
    "|**Clustering**\t| \t \n",
    "|‘adjusted_mutual_info_score’|\tmetrics.adjusted_mutual_info_score|\t \n",
    "|‘adjusted_rand_score’|\tmetrics.adjusted_rand_score|\t \n",
    "|‘completeness_score’|\tmetrics.completeness_score|\t \n",
    "|‘fowlkes_mallows_score’|\tmetrics.fowlkes_mallows_score|\t \n",
    "|‘homogeneity_score’|\tmetrics.homogeneity_score|\t \n",
    "|‘mutual_info_score’|\tmetrics.mutual_info_score|\t \n",
    "|‘normalized_mutual_info_score’|\tmetrics.normalized_mutual_info_score|\t \n",
    "|‘v_measure_score’|\tmetrics.v_measure_score\t| \n",
    "|**Regression**|\t \t \n",
    "|‘explained_variance’|\tmetrics.explained_variance_score|\t \n",
    "|‘neg_mean_absolute_error’|\tmetrics.mean_absolute_error\t|\n",
    "|‘neg_mean_squared_error’|\tmetrics.mean_squared_error| \n",
    "|‘neg_mean_squared_log_error’|\tmetrics.mean_squared_log_error|\t \n",
    "|‘neg_median_absolute_error’|\tmetrics.median_absolute_error|\t \n",
    "|‘r2’|\tmetrics.r2_score|"
   ]
  },
  {
   "cell_type": "markdown",
   "metadata": {},
   "source": [
    "## 分类指标"
   ]
  },
  {
   "cell_type": "markdown",
   "metadata": {},
   "source": [
    "### 1.分类精确度"
   ]
  },
  {
   "cell_type": "code",
   "execution_count": 47,
   "metadata": {},
   "outputs": [
    {
     "name": "stdout",
     "output_type": "stream",
     "text": [
      "Scores are: [ 0.7012987   0.81818182  0.74025974  0.71428571  0.77922078  0.75324675\n",
      "  0.85714286  0.80519481  0.72368421  0.80263158]\n",
      "Accuracy is : 76.951%, STD is :0.048\n"
     ]
    }
   ],
   "source": [
    "import pandas as pd\n",
    "import scipy as sp\n",
    "import numpy as np\n",
    "from sklearn.linear_model import LogisticRegression\n",
    "from sklearn import model_selection\n",
    "\n",
    "filename = 'pima-indians-diabetes.data.csv'\n",
    "names = ['preg', 'plas', 'pres', 'skin', 'test', 'mass', 'pedi', 'age', 'class']\n",
    "dataframe = pd.read_csv(filename, delimiter=',', header=None, names=names)\n",
    "\n",
    "data_array = dataframe.values\n",
    "X = data_array[:,0:8]\n",
    "Y = data_array[:,8]\n",
    "\n",
    "seed = 15   # to get the same result, use fixed seed\n",
    "num_folder =10\n",
    "kfold = model_selection.KFold(n_splits = num_folder, random_state=seed)\n",
    "\n",
    "model = LogisticRegression()\n",
    "\n",
    "scoring = 'accuracy'\n",
    "\n",
    "scores = model_selection.cross_val_score(estimator=model, X=X, y=Y, cv=kfold, scoring=scoring)\n",
    "\n",
    "print ('Scores are: %s') %(scores)\n",
    "print ('Accuracy is : %.3f%%, STD is :%.3f') %(scores.mean()*100, scores.std())"
   ]
  },
  {
   "cell_type": "markdown",
   "metadata": {},
   "source": [
    "### 2.对数损失"
   ]
  },
  {
   "cell_type": "code",
   "execution_count": 51,
   "metadata": {},
   "outputs": [
    {
     "name": "stdout",
     "output_type": "stream",
     "text": [
      "Scores are: [-0.57564876 -0.44405933 -0.52792964 -0.52759494 -0.51250102 -0.48984434\n",
      " -0.45147507 -0.40816584 -0.47043419 -0.51837365]\n",
      "Logloss is : -0.493, STD is :0.047\n"
     ]
    }
   ],
   "source": [
    "import pandas as pd\n",
    "import scipy as sp\n",
    "import numpy as np\n",
    "from sklearn.linear_model import LogisticRegression\n",
    "from sklearn import model_selection\n",
    "\n",
    "filename = 'pima-indians-diabetes.data.csv'\n",
    "names = ['preg', 'plas', 'pres', 'skin', 'test', 'mass', 'pedi', 'age', 'class']\n",
    "dataframe = pd.read_csv(filename, delimiter=',', header=None, names=names)\n",
    "\n",
    "data_array = dataframe.values\n",
    "X = data_array[:,0:8]\n",
    "Y = data_array[:,8]\n",
    "\n",
    "seed = 15   # to get the same result, use fixed seed\n",
    "num_folder =10\n",
    "kfold = model_selection.KFold(n_splits = num_folder, random_state=seed)\n",
    "\n",
    "model = LogisticRegression()\n",
    "\n",
    "scoring = 'neg_log_loss'\n",
    "\n",
    "scores = model_selection.cross_val_score(estimator=model, X=X, y=Y, cv=kfold, scoring=scoring)\n",
    "\n",
    "print ('Scores are: %s') %(scores)\n",
    "print ('Logloss is : %.3f, STD is :%.3f') %(scores.mean(), scores.std())"
   ]
  },
  {
   "cell_type": "markdown",
   "metadata": {},
   "source": [
    "### 3.ROC曲线下面积"
   ]
  },
  {
   "cell_type": "code",
   "execution_count": 53,
   "metadata": {},
   "outputs": [
    {
     "name": "stdout",
     "output_type": "stream",
     "text": [
      "Scores are: [ 0.75625     0.8231405   0.82079343  0.7893617   0.79703704  0.83900709\n",
      "  0.80272109  0.91153846  0.8661859   0.82898551]\n",
      "ROC_AUC is : 0.824, STD is :0.041\n"
     ]
    }
   ],
   "source": [
    "import pandas as pd\n",
    "import scipy as sp\n",
    "import numpy as np\n",
    "from sklearn.linear_model import LogisticRegression\n",
    "from sklearn import model_selection\n",
    "\n",
    "filename = 'pima-indians-diabetes.data.csv'\n",
    "names = ['preg', 'plas', 'pres', 'skin', 'test', 'mass', 'pedi', 'age', 'class']\n",
    "dataframe = pd.read_csv(filename, delimiter=',', header=None, names=names)\n",
    "\n",
    "data_array = dataframe.values\n",
    "X = data_array[:,0:8]\n",
    "Y = data_array[:,8]\n",
    "\n",
    "seed = 15   # to get the same result, use fixed seed\n",
    "num_folder =10\n",
    "kfold = model_selection.KFold(n_splits = num_folder, random_state=seed)\n",
    "\n",
    "model = LogisticRegression()\n",
    "\n",
    "scoring = 'roc_auc'\n",
    "\n",
    "scores = model_selection.cross_val_score(estimator=model, X=X, y=Y, cv=kfold, scoring=scoring)\n",
    "\n",
    "print ('Scores are: %s') %(scores)\n",
    "print ('ROC_AUC is : %.3f, STD is :%.3f') %(scores.mean(), scores.std())"
   ]
  },
  {
   "cell_type": "markdown",
   "metadata": {},
   "source": [
    "### 4.混淆矩阵"
   ]
  },
  {
   "cell_type": "code",
   "execution_count": 56,
   "metadata": {},
   "outputs": [
    {
     "name": "stdout",
     "output_type": "stream",
     "text": [
      "[[148  29]\n",
      " [ 35  42]]\n"
     ]
    }
   ],
   "source": [
    "import pandas as pd\n",
    "import scipy as sp\n",
    "import numpy as np\n",
    "from sklearn.linear_model import LogisticRegression\n",
    "from sklearn import model_selection\n",
    "from sklearn import metrics\n",
    "\n",
    "filename = 'pima-indians-diabetes.data.csv'\n",
    "names = ['preg', 'plas', 'pres', 'skin', 'test', 'mass', 'pedi', 'age', 'class']\n",
    "dataframe = pd.read_csv(filename, delimiter=',', header=None, names=names)\n",
    "\n",
    "data_array = dataframe.values\n",
    "X = data_array[:,0:8]\n",
    "Y = data_array[:,8]\n",
    "\n",
    "test_size = 0.33\n",
    "seed = 15   # to get the same result, use fixed seed\n",
    "\n",
    "X_train, X_test, Y_train, Y_test = model_selection.train_test_split(X, Y, test_size=test_size, random_state=seed)\n",
    "\n",
    "model = LogisticRegression(random_state=seed)\n",
    "\n",
    "model.fit(X_train, Y_train)\n",
    "\n",
    "result = model.predict(X_test)\n",
    "\n",
    "matrix = metrics.confusion_matrix(Y_test, result)\n",
    "\n",
    "print (matrix)"
   ]
  },
  {
   "cell_type": "markdown",
   "metadata": {},
   "source": [
    "### 5.分类报告"
   ]
  },
  {
   "cell_type": "code",
   "execution_count": 1,
   "metadata": {},
   "outputs": [
    {
     "name": "stdout",
     "output_type": "stream",
     "text": [
      "             precision    recall  f1-score   support\n",
      "\n",
      "        0.0       0.81      0.84      0.82       177\n",
      "        1.0       0.59      0.55      0.57        77\n",
      "\n",
      "avg / total       0.74      0.75      0.75       254\n",
      "\n"
     ]
    }
   ],
   "source": [
    "import pandas as pd\n",
    "import scipy as sp\n",
    "import numpy as np\n",
    "from sklearn.linear_model import LogisticRegression\n",
    "from sklearn import model_selection\n",
    "from sklearn import metrics\n",
    "\n",
    "filename = 'pima-indians-diabetes.data.csv'\n",
    "names = ['preg', 'plas', 'pres', 'skin', 'test', 'mass', 'pedi', 'age', 'class']\n",
    "dataframe = pd.read_csv(filename, delimiter=',', header=None, names=names)\n",
    "\n",
    "data_array = dataframe.values\n",
    "X = data_array[:,0:8]\n",
    "Y = data_array[:,8]\n",
    "\n",
    "test_size = 0.33\n",
    "seed = 15   # to get the same result, use fixed seed\n",
    "\n",
    "X_train, X_test, Y_train, Y_test = model_selection.train_test_split(X, Y, test_size=test_size, random_state=seed)\n",
    "\n",
    "model = LogisticRegression(random_state=seed)\n",
    "\n",
    "model.fit(X_train, Y_train)\n",
    "\n",
    "result = model.predict(X_test)\n",
    "\n",
    "target_names = ['class 0', 'class 1']\n",
    "\n",
    "report = metrics.classification_report(Y_test, result, target_names=target_names)\n",
    "\n",
    "print (report)"
   ]
  },
  {
   "cell_type": "markdown",
   "metadata": {},
   "source": [
    "## 回归指标"
   ]
  },
  {
   "cell_type": "markdown",
   "metadata": {},
   "source": [
    "### 1.绝对平均误差"
   ]
  },
  {
   "cell_type": "code",
   "execution_count": 80,
   "metadata": {},
   "outputs": [
    {
     "name": "stdout",
     "output_type": "stream",
     "text": [
      "[-2.14599703 -2.85271705 -2.96796682 -4.80947495 -3.98731406 -3.57831776\n",
      " -2.68416815 -9.64482619 -4.99512797 -2.5344678 ]\n",
      "Mean score is -4.020 , STD is 2.083\n"
     ]
    }
   ],
   "source": [
    "import pandas as pd\n",
    "import scipy as sp\n",
    "import numpy as np\n",
    "from sklearn.linear_model import LinearRegression\n",
    "from sklearn import model_selection\n",
    "from sklearn import metrics\n",
    "\n",
    "filename = 'Boston_Housing.csv'\n",
    "names = ['CRIM', 'ZN', 'INDUS', 'CHAS', 'NOX', 'RM', 'AGE', 'DIS', 'RAD', 'TAX', 'PTRATIO','B', 'LSTAT', 'MEDV']\n",
    "dataframe = pd.read_csv(filename, delimiter=',', header=1, names=names)\n",
    "\n",
    "data_array = dataframe.values\n",
    "X = data_array[:,0:13]\n",
    "Y = data_array[:,13]\n",
    "\n",
    "num_folders = 10\n",
    "seed = 15   # to get the same result, use fixed seed\n",
    "\n",
    "kfold = model_selection.KFold(n_splits=num_folders, random_state=seed)\n",
    "\n",
    "scoring = 'neg_mean_absolute_error'\n",
    "model = LinearRegression()\n",
    "``\n",
    "scores = model_selection.cross_val_score(estimator=model, X=X, y=Y, cv=kfold, scoring=scoring)\n",
    "\n",
    "print (scores)\n",
    "\n",
    "print ('Mean score is: %.3f , STD is %.3f') %(scores.mean(), scores.std())"
   ]
  },
  {
   "cell_type": "markdown",
   "metadata": {},
   "source": [
    "http://www.cs.toronto.edu/~delve/data/boston/bostonDetail.htmlhttp://datamining.dongguk.ac.kr/lectures/2009-2/dm/data/html/BostonHousing.html\n",
    "    \n",
    "The original data are 506 observations on 14 variables, medv being the target variable:\n",
    "crim\tper capita crime rate by town\n",
    "zn\tproportion of residential land zoned for lots over 25,000 sq.ft\n",
    "indus\tproportion of non-retail business acres per town\n",
    "chas\tCharles River dummy variable (= 1 if tract bounds river; 0 otherwise)\n",
    "nox\tnitric oxides concentration (parts per 10 million)\n",
    "rm\taverage number of rooms per dwelling\n",
    "age\tproportion of owner-occupied units built prior to 1940\n",
    "dis\tweighted distances to five Boston employment centres\n",
    "rad\tindex of accessibility to radial highways\n",
    "tax\tfull-value property-tax rate per USD 10,000\n",
    "ptratio\tpupil-teacher ratio by town\n",
    "b\t1000(B - 0.63)^2 where B is the proportion of blacks by town\n",
    "lstat\tpercentage of lower status of the population\n",
    "medv\tmedian value of owner-occupied homes in USD 1000's\n"
   ]
  },
  {
   "cell_type": "markdown",
   "metadata": {},
   "source": [
    "### 2.均方误差"
   ]
  },
  {
   "cell_type": "code",
   "execution_count": 83,
   "metadata": {},
   "outputs": [
    {
     "name": "stdout",
     "output_type": "stream",
     "text": [
      "[  -8.70983468  -13.94827866  -15.27249078  -37.60234655  -30.67895992\n",
      "  -19.92314843  -10.04657328 -167.98953108  -33.03993453  -10.93011923]\n",
      "Mean square score is -34.814 , STD is 45.462\n"
     ]
    }
   ],
   "source": [
    "import pandas as pd\n",
    "import scipy as sp\n",
    "import numpy as np\n",
    "from sklearn.linear_model import LinearRegression\n",
    "from sklearn import model_selection\n",
    "\n",
    "\n",
    "filename = 'Boston_Housing.csv'\n",
    "names = ['CRIM', 'ZN', 'INDUS', 'CHAS', 'NOX', 'RM', 'AGE', 'DIS', 'RAD', 'TAX', 'PTRATIO','B', 'LSTAT', 'MEDV']\n",
    "dataframe = pd.read_csv(filename, delimiter=',', header=1, names=names)\n",
    "\n",
    "data_array = dataframe.values\n",
    "X = data_array[:,0:13]\n",
    "Y = data_array[:,13]\n",
    "\n",
    "num_folders = 10\n",
    "seed = 15   # to get the same result, use fixed seed\n",
    "\n",
    "kfold = model_selection.KFold(n_splits=num_folders, random_state=seed)\n",
    "\n",
    "scoring = 'neg_mean_squared_error'\n",
    "model = LinearRegression()\n",
    "\n",
    "scores = model_selection.cross_val_score(estimator=model, X=X, y=Y, cv=kfold, scoring=scoring)\n",
    "\n",
    "print (scores)\n",
    "\n",
    "print ('Mean square score is: %.3f , STD is %.3f') %(scores.mean(), scores.std())"
   ]
  },
  {
   "cell_type": "markdown",
   "metadata": {},
   "source": [
    "### 3.决定系数（R^2） "
   ]
  },
  {
   "cell_type": "code",
   "execution_count": 86,
   "metadata": {},
   "outputs": [
    {
     "name": "stdout",
     "output_type": "stream",
     "text": [
      "[ 0.74852635  0.48738272 -1.16842158  0.63102396  0.50001639  0.73259006\n",
      "  0.37207724 -0.1266393  -0.75305547  0.42054937]\n",
      "Mean r2 score is: 0.184 , STD is 0.625\n"
     ]
    }
   ],
   "source": [
    "import pandas as pd\n",
    "import scipy as sp\n",
    "import numpy as np\n",
    "from sklearn.linear_model import LinearRegression\n",
    "from sklearn import model_selection\n",
    "\n",
    "\n",
    "filename = 'Boston_Housing.csv'\n",
    "names = ['CRIM', 'ZN', 'INDUS', 'CHAS', 'NOX', 'RM', 'AGE', 'DIS', 'RAD', 'TAX', 'PTRATIO','B', 'LSTAT', 'MEDV']\n",
    "dataframe = pd.read_csv(filename, delimiter=',', header=1, names=names)\n",
    "\n",
    "data_array = dataframe.values\n",
    "X = data_array[:,0:13]\n",
    "Y = data_array[:,13]\n",
    "\n",
    "num_folders = 10\n",
    "seed = 15   # to get the same result, use fixed seed\n",
    "\n",
    "kfold = model_selection.KFold(n_splits=num_folders, random_state=seed)\n",
    "\n",
    "scoring = 'r2'\n",
    "model = LinearRegression()\n",
    "\n",
    "scores = model_selection.cross_val_score(estimator=model, X=X, y=Y, cv=kfold, scoring=scoring)\n",
    "\n",
    "print (scores)\n",
    "\n",
    "print ('Mean r2 score is: %.3f , STD is %.3f') %(scores.mean(), scores.std())"
   ]
  },
  {
   "cell_type": "markdown",
   "metadata": {},
   "source": [
    "# 三、模型比较"
   ]
  },
  {
   "cell_type": "markdown",
   "metadata": {},
   "source": [
    "选择以下学习方法进行比较\n",
    "- 逻辑回归\n",
    "- 线性判别分析\n",
    "- 支持向量机\n",
    "- K近邻\n",
    "- 朴素贝叶斯\n",
    "- 分类回归树"
   ]
  },
  {
   "cell_type": "code",
   "execution_count": 97,
   "metadata": {},
   "outputs": [
    {
     "name": "stdout",
     "output_type": "stream",
     "text": [
      "LR\n",
      "Scores are: [ 0.7012987   0.81818182  0.74025974  0.71428571  0.77922078  0.75324675\n",
      "  0.85714286  0.80519481  0.72368421  0.80263158]\n",
      "Mean accuracy is : 0.770, STD is :0.048\n",
      "CART\n",
      "Scores are: [ 0.64935065  0.79220779  0.64935065  0.5974026   0.71428571  0.7012987\n",
      "  0.76623377  0.77922078  0.67105263  0.65789474]\n",
      "Mean accuracy is : 0.698, STD is :0.061\n",
      "SVM\n",
      "Scores are: [ 0.58441558  0.71428571  0.55844156  0.61038961  0.64935065  0.61038961\n",
      "  0.81818182  0.67532468  0.68421053  0.60526316]\n",
      "Mean accuracy is : 0.651, STD is :0.072\n",
      "KNN\n",
      "Scores are: [ 0.63636364  0.83116883  0.7012987   0.63636364  0.71428571  0.75324675\n",
      "  0.74025974  0.80519481  0.68421053  0.76315789]\n",
      "Mean accuracy is : 0.727, STD is :0.062\n",
      "LDA\n",
      "Scores are: [ 0.7012987   0.83116883  0.75324675  0.67532468  0.77922078  0.76623377\n",
      "  0.84415584  0.81818182  0.76315789  0.80263158]\n",
      "Mean accuracy is : 0.773, STD is :0.052\n",
      "NB\n",
      "Scores are: [ 0.67532468  0.80519481  0.75324675  0.71428571  0.72727273  0.76623377\n",
      "  0.80519481  0.81818182  0.73684211  0.75      ]\n",
      "Mean accuracy is : 0.755, STD is :0.043\n"
     ]
    },
    {
     "data": {
      "image/png": "[encoded data removed]",
      "text/plain": [
       "<matplotlib.figure.Figure at 0xde37550>"
      ]
     },
     "metadata": {},
     "output_type": "display_data"
    }
   ],
   "source": [
    "import pandas as pd\n",
    "import scipy as sp\n",
    "import numpy as np\n",
    "from sklearn.linear_model import LogisticRegression\n",
    "from sklearn.tree import DecisionTreeClassifier\n",
    "from sklearn.svm import SVC\n",
    "from sklearn.neighbors import KNeighborsClassifier\n",
    "from sklearn.discriminant_analysis import LinearDiscriminantAnalysis\n",
    "from sklearn.naive_bayes import GaussianNB\n",
    "from sklearn import model_selection\n",
    "import matplotlib.pyplot as plt\n",
    "\n",
    "filename = 'pima-indians-diabetes.data.csv'\n",
    "names = ['preg', 'plas', 'pres', 'skin', 'test', 'mass', 'pedi', 'age', 'class']\n",
    "dataframe = pd.read_csv(filename, delimiter=',', header=None, names=names)\n",
    "\n",
    "data_array = dataframe.values\n",
    "X = data_array[:,0:8]\n",
    "Y = data_array[:,8]\n",
    "\n",
    "models = []\n",
    "models.append(('LR',LogisticRegression()))\n",
    "models.append(('CART',DecisionTreeClassifier()))\n",
    "models.append(('SVM',SVC()))\n",
    "models.append(('KNN',KNeighborsClassifier()))\n",
    "models.append(('LDA', LinearDiscriminantAnalysis()))\n",
    "models.append(('NB',GaussianNB()))\n",
    "\n",
    "seed = 15   # to get the same result, use fixed seed\n",
    "num_folder =10\n",
    "kfold = model_selection.KFold(n_splits = num_folder, random_state=seed)\n",
    "\n",
    "scoring = 'accuracy'\n",
    "results = []\n",
    "names = []\n",
    "for name, model in models:\n",
    "    scores = model_selection.cross_val_score(estimator=model, X=X, y=Y, cv=kfold, scoring=scoring)\n",
    "    results.append(scores)\n",
    "    names.append(name)\n",
    "    print name\n",
    "    print ('Scores are: %s') %(scores)\n",
    "    print ('Mean accuracy is : %.3f, STD is :%.3f') %(scores.mean(), scores.std())\n",
    "\n",
    "fig = plt.figure()\n",
    "fig.suptitle('Algorithms Comparison')\n",
    "#fig.set_size_inches((12,12))\n",
    "ax = fig.add_subplot(111)\n",
    "plt.boxplot(results)\n",
    "ax.set_xticklabels(names)\n",
    "plt.show()"
   ]
  },
  {
   "cell_type": "markdown",
   "metadata": {},
   "source": [
    "# 四、机器学习流水线"
   ]
  },
  {
   "cell_type": "markdown",
   "metadata": {},
   "source": [
    "### 1.数据准备和建模流水线"
   ]
  },
  {
   "cell_type": "code",
   "execution_count": 106,
   "metadata": {},
   "outputs": [
    {
     "name": "stdout",
     "output_type": "stream",
     "text": [
      "Scores are: [ 0.68831169  0.83116883  0.76623377  0.7012987   0.77922078  0.79220779\n",
      "  0.84415584  0.83116883  0.76315789  0.80263158]\n",
      "Accuracy is : 77.996%, STD is :0.050\n"
     ]
    }
   ],
   "source": [
    "import pandas as pd\n",
    "import scipy as sp\n",
    "import numpy as np\n",
    "from sklearn import model_selection\n",
    "from sklearn.pipeline import Pipeline\n",
    "import sklearn.preprocessing as pp\n",
    "from sklearn.linear_model import LogisticRegression\n",
    "from sklearn.pipeline import FeatureUnion\n",
    "from sklearn import feature_selection\n",
    "from sklearn.decomposition import PCA\n",
    "\n",
    "filename = 'pima-indians-diabetes.data.csv'\n",
    "names = ['preg', 'plas', 'pres', 'skin', 'test', 'mass', 'pedi', 'age', 'class']\n",
    "dataframe = pd.read_csv(filename, delimiter=',', header=None, names=names)\n",
    "\n",
    "data_array = dataframe.values\n",
    "X = data_array[:,0:8]\n",
    "Y = data_array[:,8]\n",
    "\n",
    "seed = 15   # to get the same result, use fixed seed\n",
    "num_folder =10\n",
    "kfold = model_selection.KFold(n_splits = num_folder, random_state=seed)\n",
    "\n",
    "estimators = []\n",
    "estimators.append(('standardize', pp.StandardScaler()))\n",
    "estimators.append(('LR', LogisticRegression()))\n",
    "pipe = Pipeline(estimators)\n",
    "\n",
    "scores = model_selection.cross_val_score(estimator=pipe, X=X, y=Y, cv=kfold)\n",
    "\n",
    "print ('Scores are: %s') %(scores)\n",
    "print ('Accuracy is : %.3f%%, STD is :%.3f') %(scores.mean()*100, scores.std())"
   ]
  },
  {
   "cell_type": "markdown",
   "metadata": {},
   "source": [
    "### 2.特征选择和建模流水线"
   ]
  },
  {
   "cell_type": "code",
   "execution_count": 109,
   "metadata": {},
   "outputs": [
    {
     "name": "stdout",
     "output_type": "stream",
     "text": [
      "Scores are: [ 0.7012987   0.83116883  0.75324675  0.67532468  0.77922078  0.76623377\n",
      "  0.84415584  0.81818182  0.76315789  0.80263158]\n",
      "Accuracy is : 77.346%, STD is :0.052\n"
     ]
    }
   ],
   "source": [
    "import pandas as pd\n",
    "import scipy as sp\n",
    "import numpy as np\n",
    "from sklearn.discriminant_analysis import LinearDiscriminantAnalysis\n",
    "from sklearn import model_selection\n",
    "from sklearn.pipeline import Pipeline\n",
    "import sklearn.preprocessing as pp\n",
    "from sklearn.pipeline import FeatureUnion\n",
    "from sklearn import feature_selection\n",
    "from sklearn.decomposition import PCA\n",
    "\n",
    "filename = 'pima-indians-diabetes.data.csv'\n",
    "names = ['preg', 'plas', 'pres', 'skin', 'test', 'mass', 'pedi', 'age', 'class']\n",
    "dataframe = pd.read_csv(filename, delimiter=',', header=None, names=names)\n",
    "\n",
    "data_array = dataframe.values\n",
    "X = data_array[:,0:8]\n",
    "Y = data_array[:,8]\n",
    "\n",
    "seed = 15   # to get the same result, use fixed seed\n",
    "num_folder =10\n",
    "kfold = model_selection.KFold(n_splits = num_folder, random_state=seed)\n",
    "\n",
    "features = []\n",
    "features.append(('pca', PCA(n_components=3)))\n",
    "features.append(('select_best', feature_selection.SelectKBest( k=5)))\n",
    "feature_union = FeatureUnion(features)\n",
    "\n",
    "estimators = []\n",
    "estimators.append(('feature_union', feature_union))\n",
    "estimators.append(('LDA', LinearDiscriminantAnalysis()))\n",
    "pipe = Pipeline(estimators)\n",
    "\n",
    "scores = model_selection.cross_val_score(estimator=pipe, X=X, y=Y, cv=kfold)\n",
    "\n",
    "print ('Scores are: %s') %(scores)\n",
    "print ('Accuracy is : %.3f%%, STD is :%.3f') %(scores.mean()*100, scores.std())"
   ]
  },
  {
   "cell_type": "code",
   "execution_count": null,
   "metadata": {
    "collapsed": true
   },
   "outputs": [],
   "source": []
  }
 ],
 "metadata": {
  "kernelspec": {
   "display_name": "python3",
   "language": "python",
   "name": "assignment1"
  },
  "language_info": {
   "codemirror_mode": {
    "name": "ipython",
    "version": 3
   },
   "file_extension": ".py",
   "mimetype": "text/x-python",
   "name": "python",
   "nbconvert_exporter": "python",
   "pygments_lexer": "ipython3",
   "version": "3.6.1"
  }
 },
 "nbformat": 4,
 "nbformat_minor": 2
}
